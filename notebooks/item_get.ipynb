{
 "cells": [
  {
   "cell_type": "markdown",
   "id": "3bc67e37",
   "metadata": {},
   "source": [
    "# Get english label for entity Q42"
   ]
  },
  {
   "cell_type": "markdown",
   "id": "3646845d",
   "metadata": {},
   "source": [
    "Load wikibaseintegrator"
   ]
  },
  {
   "cell_type": "code",
   "execution_count": 9,
   "id": "498b50c2",
   "metadata": {},
   "outputs": [],
   "source": [
    "from wikibaseintegrator import WikibaseIntegrator"
   ]
  },
  {
   "cell_type": "markdown",
   "id": "ee386bbb",
   "metadata": {},
   "source": [
    "Create WikibaseIntegrator object"
   ]
  },
  {
   "cell_type": "code",
   "execution_count": 10,
   "id": "f5131e52",
   "metadata": {},
   "outputs": [],
   "source": [
    "wbi = WikibaseIntegrator()"
   ]
  },
  {
   "cell_type": "code",
   "execution_count": 11,
   "id": "5ce0df1e",
   "metadata": {},
   "outputs": [],
   "source": [
    "q42 = wbi.item.get('Q42')"
   ]
  },
  {
   "cell_type": "code",
   "execution_count": 12,
   "id": "29c22ef2",
   "metadata": {
    "pycharm": {
     "name": "#%%\n"
    }
   },
   "outputs": [
    {
     "data": {
      "text/plain": "'Douglas Adams'"
     },
     "execution_count": 12,
     "metadata": {},
     "output_type": "execute_result"
    }
   ],
   "source": [
    "q42.labels.get('en').value"
   ]
  }
 ],
 "metadata": {
  "kernelspec": {
   "display_name": "Python 3 (ipykernel)",
   "language": "python",
   "name": "python3"
  },
  "language_info": {
   "codemirror_mode": {
    "name": "ipython",
    "version": 3
   },
   "file_extension": ".py",
   "mimetype": "text/x-python",
   "name": "python",
   "nbconvert_exporter": "python",
   "pygments_lexer": "ipython3",
   "version": "3.9.1"
  }
 },
 "nbformat": 4,
 "nbformat_minor": 5
}
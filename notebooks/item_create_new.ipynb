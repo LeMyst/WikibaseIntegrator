{
 "cells": [
  {
   "cell_type": "markdown",
   "id": "3bc67e37",
   "metadata": {
    "pycharm": {
     "name": "#%% md\n"
    }
   },
   "source": [
    "# Create a new Item"
   ]
  },
  {
   "cell_type": "markdown",
   "id": "3646845d",
   "metadata": {
    "pycharm": {
     "name": "#%% md\n"
    }
   },
   "source": [
    "Load wikibaseintegrator"
   ]
  },
  {
   "cell_type": "code",
   "execution_count": 1,
   "id": "498b50c2",
   "metadata": {
    "pycharm": {
     "name": "#%%\n"
    }
   },
   "outputs": [],
   "source": [
    "from wikibaseintegrator import datatypes\n",
    "from wikibaseintegrator import wbi_login\n",
    "from wikibaseintegrator import WikibaseIntegrator\n",
    "from wikibaseintegrator.models import Qualifiers, Reference, References\n",
    "from wikibaseintegrator.wbi_config import config\n",
    "from wikibaseintegrator.wbi_enums import WikibaseSnakType"
   ]
  },
  {
   "cell_type": "code",
   "execution_count": 2,
   "id": "90b179a6",
   "metadata": {
    "pycharm": {
     "name": "#%%\n"
    }
   },
   "outputs": [],
   "source": [
    "WDUSER = ''\n",
    "WDPASS = ''"
   ]
  },
  {
   "cell_type": "markdown",
   "id": "bb9948a9",
   "metadata": {
    "pycharm": {
     "name": "#%% md\n"
    }
   },
   "source": [
    "Set default variables"
   ]
  },
  {
   "cell_type": "code",
   "execution_count": 3,
   "id": "2ffe3908",
   "metadata": {
    "pycharm": {
     "name": "#%%\n"
    }
   },
   "outputs": [],
   "source": [
    "config['MEDIAWIKI_API_URL'] = 'https://test.wikidata.org/w/api.php'\n",
    "config['USER_AGENT'] = 'Lexeme Write Notebook'"
   ]
  },
  {
   "cell_type": "markdown",
   "id": "27e3932f",
   "metadata": {
    "pycharm": {
     "name": "#%% md\n"
    }
   },
   "source": [
    "Create login and WikibaseIntegrator object"
   ]
  },
  {
   "cell_type": "code",
   "execution_count": 4,
   "id": "4963fc82",
   "metadata": {
    "pycharm": {
     "name": "#%%\n"
    }
   },
   "outputs": [],
   "source": [
    "login = wbi_login.Login(user=WDUSER, password=WDPASS, mediawiki_api_url='https://test.wikidata.org/w/api.php')\n",
    "wbi = WikibaseIntegrator(login=login)"
   ]
  },
  {
   "cell_type": "markdown",
   "id": "c8b2ce02",
   "metadata": {
    "pycharm": {
     "name": "#%% md\n"
    }
   },
   "source": [
    "Create a new Item object"
   ]
  },
  {
   "cell_type": "code",
   "execution_count": 5,
   "id": "5ce0df1e",
   "metadata": {
    "pycharm": {
     "name": "#%%\n"
    }
   },
   "outputs": [],
   "source": [
    "new_item = wbi.item.new()"
   ]
  },
  {
   "cell_type": "markdown",
   "id": "00f46d7d",
   "metadata": {
    "pycharm": {
     "name": "#%% md\n"
    }
   },
   "source": [
    "Set labels"
   ]
  },
  {
   "cell_type": "code",
   "execution_count": 6,
   "id": "71cd2848",
   "metadata": {
    "pycharm": {
     "name": "#%%\n"
    }
   },
   "outputs": [
    {
     "data": {
      "text/plain": "<LanguageValue @c7e20 _LanguageValue__language='fr' _LanguageValue__value='Nouvel élément' _LanguageValue__removed=False>"
     },
     "execution_count": 6,
     "metadata": {},
     "output_type": "execute_result"
    }
   ],
   "source": [
    "new_item.labels.set('en', 'New item')\n",
    "new_item.labels.set('fr', 'Nouvel élément')"
   ]
  },
  {
   "cell_type": "markdown",
   "id": "cef7ce93",
   "metadata": {
    "pycharm": {
     "name": "#%% md\n"
    }
   },
   "source": [
    "Set aliases"
   ]
  },
  {
   "cell_type": "code",
   "execution_count": 7,
   "id": "7ada4b6a",
   "metadata": {
    "pycharm": {
     "name": "#%%\n"
    }
   },
   "outputs": [
    {
     "data": {
      "text/plain": "<Aliases @480a00 _Aliases__aliases={'en': [<Alias @480cd0 _LanguageValue__language='en' _LanguageValue__value='Item' _LanguageValue__removed=False>], 'fr': [<Alias @480ca0 _LanguageValue__language='fr' _LanguageValue__value='Élément' _LanguageValue__removed=False>]}>"
     },
     "execution_count": 7,
     "metadata": {},
     "output_type": "execute_result"
    }
   ],
   "source": [
    "new_item.aliases.set('en', 'Item')\n",
    "new_item.aliases.set('fr', 'Élément')"
   ]
  },
  {
   "cell_type": "markdown",
   "id": "7185bec3",
   "metadata": {
    "pycharm": {
     "name": "#%% md\n"
    }
   },
   "source": [
    "Set descriptions"
   ]
  },
  {
   "cell_type": "code",
   "execution_count": 8,
   "id": "a2a3b081",
   "metadata": {
    "pycharm": {
     "name": "#%%\n"
    }
   },
   "outputs": [
    {
     "data": {
      "text/plain": "<LanguageValue @480fd0 _LanguageValue__language='fr' _LanguageValue__value='Un élément fraichement créé' _LanguageValue__removed=False>"
     },
     "execution_count": 8,
     "metadata": {},
     "output_type": "execute_result"
    }
   ],
   "source": [
    "new_item.descriptions.set('en', 'A freshly created element')\n",
    "new_item.descriptions.set('fr', 'Un élément fraichement créé')"
   ]
  },
  {
   "cell_type": "markdown",
   "id": "078c3b4b",
   "metadata": {
    "pycharm": {
     "name": "#%% md\n"
    }
   },
   "source": [
    "Create a claim, with qualifiers and references, and add it to the new item entity"
   ]
  },
  {
   "cell_type": "code",
   "execution_count": 9,
   "id": "ac4b06df",
   "metadata": {
    "pycharm": {
     "name": "#%%\n"
    }
   },
   "outputs": [
    {
     "data": {
      "text/plain": "<Claims @4807c0 _Claims__claims={'P31533': [<String @482170 _Claim__mainsnak=<Snak @4837f0 _Snak__snaktype=<WikibaseSnakType.KNOWN_VALUE: 'value'> _Snak__property_number='P31533' _Snak__hash=None _Snak__datavalue={'value': 'A String property', 'type': 'string'} _Snak__datatype='string'> _Claim__type='statement' _Claim__qualifiers=<Qualifiers @4838e0 _Qualifiers__qualifiers={'P828': [<Snak @481c00 _Snak__snaktype=<WikibaseSnakType.KNOWN_VALUE: 'value'> _Snak__property_number='P828' _Snak__hash=None _Snak__datavalue={'value': 'Item qualifier', 'type': 'string'} _Snak__datatype='string'>]}> _Claim__qualifiers_order=[] _Claim__id=None _Claim__rank=<WikibaseRank.NORMAL: 'normal'> _Claim__removed=False _Claim__references=<References @482200 _References__references=[<Reference @4808b0 _Reference__hash=None _Reference__snaks=<Snaks @481b40 snaks={'P828': [<Snak @481e10 _Snak__snaktype=<WikibaseSnakType.KNOWN_VALUE: 'value'> _Snak__property_number='P828' _Snak__hash=None _Snak__datavalue={'value': 'Item string reference', 'type': 'string'} _Snak__datatype='string'>]}> _Reference__snaks_order=[]>, <Reference @481d50 _Reference__hash=None _Reference__snaks=<Snaks @481bd0 snaks={'P828': [<Snak @4836a0 _Snak__snaktype=<WikibaseSnakType.KNOWN_VALUE: 'value'> _Snak__property_number='P828' _Snak__hash=None _Snak__datavalue={'value': 'Another item string reference', 'type': 'string'} _Snak__datatype='string'>]}> _Reference__snaks_order=[]>, <Reference @4821a0 _Reference__hash=None _Reference__snaks=<Snaks @481ba0 snaks={'P828': [<Snak @483a60 _Snak__snaktype=<WikibaseSnakType.NO_VALUE: 'novalue'> _Snak__property_number='P828' _Snak__hash=None _Snak__datavalue={} _Snak__datatype='string'>]}> _Reference__snaks_order=[]>]>>], 'P3133': [<String @483670 _Claim__mainsnak=<Snak @4837c0 _Snak__snaktype=<WikibaseSnakType.UNKNOWN_VALUE: 'somevalue'> _Snak__property_number='P3133' _Snak__hash=None _Snak__datavalue={} _Snak__datatype='string'> _Claim__type='statement' _Claim__qualifiers=<Qualifiers @483700 _Qualifiers__qualifiers={}> _Claim__qualifiers_order=[] _Claim__id=None _Claim__rank=<WikibaseRank.NORMAL: 'normal'> _Claim__removed=False _Claim__references=<References @483af0 _References__references=[]>>]}>"
     },
     "execution_count": 9,
     "metadata": {},
     "output_type": "execute_result"
    }
   ],
   "source": [
    "new_qualifiers = Qualifiers()\n",
    "new_qualifiers.add(datatypes.String(prop_nr='P828', value='Item qualifier'))\n",
    "\n",
    "new_references = References()\n",
    "\n",
    "# Create a first reference\n",
    "new_reference1 = Reference()\n",
    "new_reference1.add(datatypes.String(prop_nr='P828', value='Item string reference'))\n",
    "\n",
    "# Create another reference\n",
    "new_reference2 = Reference()\n",
    "new_reference2.add(datatypes.String(prop_nr='P828', value='Another item string reference'))\n",
    "\n",
    "# Create a reference with \"no value\"\n",
    "new_reference3 = Reference()\n",
    "new_reference3.add(datatypes.String(prop_nr='P828', snaktype=WikibaseSnakType.NO_VALUE))\n",
    "\n",
    "# Add all the references to the References object\n",
    "new_references.add(new_reference1)\n",
    "new_references.add(new_reference2)\n",
    "new_references.add(new_reference3)\n",
    "\n",
    "# Create the claim with the qualifiers and references\n",
    "new_claim = datatypes.String(prop_nr='P31533', value='A String property', qualifiers=new_qualifiers,\n",
    "                             references=new_references)\n",
    "\n",
    "new_item.claims.add(new_claim)\n",
    "\n",
    "# Create a claim with an unknown value\n",
    "unknown_claim = datatypes.String(prop_nr='P3133', snaktype=WikibaseSnakType.UNKNOWN_VALUE)\n",
    "\n",
    "new_item.claims.add(unknown_claim)"
   ]
  },
  {
   "cell_type": "markdown",
   "id": "b2e30176",
   "metadata": {
    "pycharm": {
     "name": "#%% md\n"
    }
   },
   "source": [
    "Write the new item to the Wikibase instance"
   ]
  },
  {
   "cell_type": "code",
   "execution_count": 10,
   "id": "29c22ef2",
   "metadata": {
    "pycharm": {
     "name": "#%%\n"
    }
   },
   "outputs": [
    {
     "data": {
      "text/plain": "<ItemEntity @480a60 _BaseEntity__api=<wikibaseintegrator.wikibaseintegrator.WikibaseIntegrator object at 0x0000018C21480790>\n\t _BaseEntity__title=None\n\t _BaseEntity__pageid=None\n\t _BaseEntity__lastrevid=598020\n\t _BaseEntity__type='item'\n\t _BaseEntity__id='Q226303'\n\t _BaseEntity__claims=<Claims @133d60 _Claims__claims={'P31533': [<String @481960 _Claim__mainsnak=<Snak @4824d0 _Snak__snaktype=<WikibaseSnakType.KNOWN_VALUE: 'value'> _Snak__property_number='P31533' _Snak__hash='112d32b098a091cc1398c779e76c763a523d4ffc' _Snak__datavalue={'value': 'A String property', 'type': 'string'} _Snak__datatype='string'> _Claim__type='statement' _Claim__qualifiers=<Qualifiers @4816f0 _Qualifiers__qualifiers={'P828': [<Snak @482350 _Snak__snaktype=<WikibaseSnakType.KNOWN_VALUE: 'value'> _Snak__property_number='P828' _Snak__hash='8d721edd0365e35ed006822601a4837b35e68fd6' _Snak__datavalue={'value': 'Item qualifier', 'type': 'string'} _Snak__datatype='string'>]}> _Claim__qualifiers_order=['P828'] _Claim__id='Q226303$4E516696-0AAA-4570-BA59-3C199407BA8A' _Claim__rank=<WikibaseRank.NORMAL: 'normal'> _Claim__removed=False _Claim__references=<References @482470 _References__references=[<Reference @481d80 _Reference__hash='9820f3e32182f8b5575be8b9cf55b9c7e5fbf269' _Reference__snaks=<Snaks @483310 snaks={'P828': [<Snak @481d20 _Snak__snaktype=<WikibaseSnakType.KNOWN_VALUE: 'value'> _Snak__property_number='P828' _Snak__hash='811577f0f42a7059f39bd6b169366bb1fb2f9af3' _Snak__datavalue={'value': 'Item string reference', 'type': 'string'} _Snak__datatype='string'>]}> _Reference__snaks_order=['P828']>, <Reference @481360 _Reference__hash='0d2ff45b3eace5dd184ad5f4ac0d1c6eff35e4ac' _Reference__snaks=<Snaks @480f40 snaks={'P828': [<Snak @481c90 _Snak__snaktype=<WikibaseSnakType.KNOWN_VALUE: 'value'> _Snak__property_number='P828' _Snak__hash='774c2b3d70f072fb26d05a95d24445fbc8b2534e' _Snak__datavalue={'value': 'Another item string reference', 'type': 'string'} _Snak__datatype='string'>]}> _Reference__snaks_order=['P828']>, <Reference @481cf0 _Reference__hash='4968e32f26488317c52a8883b49cb160b39e3428' _Reference__snaks=<Snaks @481540 snaks={'P828': [<Snak @4805e0 _Snak__snaktype=<WikibaseSnakType.NO_VALUE: 'novalue'> _Snak__property_number='P828' _Snak__hash='6e63dffef5a685b86c63dafda7a4748cbe8b029e' _Snak__datavalue={} _Snak__datatype='string'>]}> _Reference__snaks_order=['P828']>]>>], 'P3133': [<MonolingualText @482530 _Claim__mainsnak=<Snak @4823e0 _Snak__snaktype=<WikibaseSnakType.UNKNOWN_VALUE: 'somevalue'> _Snak__property_number='P3133' _Snak__hash='4b66bd689df0c4cd59c2df014b4e6a97ee99240d' _Snak__datavalue={} _Snak__datatype='monolingualtext'> _Claim__type='statement' _Claim__qualifiers=<Qualifiers @483340 _Qualifiers__qualifiers={}> _Claim__qualifiers_order=[] _Claim__id='Q226303$24A7ECB5-CF83-40B3-AFE3-CFFBA2DBCD8D' _Claim__rank=<WikibaseRank.NORMAL: 'normal'> _Claim__removed=False _Claim__references=<References @4835b0 _References__references=[]>>]}>\n\t _ItemEntity__labels=<Labels @4817b0 _LanguageValues__values={'en': <LanguageValue @482500 _LanguageValue__language='en' _LanguageValue__value='New item' _LanguageValue__removed=False>, 'fr': <LanguageValue @4803a0 _LanguageValue__language='fr' _LanguageValue__value='Nouvel élément' _LanguageValue__removed=False>}>\n\t _ItemEntity__descriptions=<Descriptions @480a30 _LanguageValues__values={'en': <LanguageValue @481210 _LanguageValue__language='en' _LanguageValue__value='A freshly created element' _LanguageValue__removed=False>, 'fr': <LanguageValue @483610 _LanguageValue__language='fr' _LanguageValue__value='Un élément fraichement créé' _LanguageValue__removed=False>}>\n\t _ItemEntity__aliases=<Aliases @4808e0 _Aliases__aliases={'en': [<Alias @4834c0 _LanguageValue__language='en' _LanguageValue__value='Item' _LanguageValue__removed=False>], 'fr': [<Alias @483430 _LanguageValue__language='fr' _LanguageValue__value='Élément' _LanguageValue__removed=False>]}>\n\t _ItemEntity__sitelinks=<Sitelinks @481ab0 sitelinks={}>>"
     },
     "execution_count": 10,
     "metadata": {},
     "output_type": "execute_result"
    }
   ],
   "source": [
    "new_item.write()\n"
   ]
  }
 ],
 "metadata": {
  "kernelspec": {
   "display_name": "Python 3 (ipykernel)",
   "language": "python",
   "name": "python3"
  },
  "language_info": {
   "codemirror_mode": {
    "name": "ipython",
    "version": 3
   },
   "file_extension": ".py",
   "mimetype": "text/x-python",
   "name": "python",
   "nbconvert_exporter": "python",
   "pygments_lexer": "ipython3",
   "version": "3.10.5"
  }
 },
 "nbformat": 4,
 "nbformat_minor": 5
}
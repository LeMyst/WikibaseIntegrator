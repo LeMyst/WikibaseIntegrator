{
 "cells": [
  {
   "cell_type": "markdown",
   "id": "3bc67e37",
   "metadata": {},
   "source": [
    "# Create a new Item"
   ]
  },
  {
   "cell_type": "markdown",
   "id": "3646845d",
   "metadata": {},
   "source": [
    "Load wikibaseintegrator"
   ]
  },
  {
   "cell_type": "code",
   "execution_count": 1,
   "id": "498b50c2",
   "metadata": {},
   "outputs": [],
   "source": [
    "from wikibaseintegrator import WikibaseIntegrator\n",
    "from wikibaseintegrator import wbi_login\n",
    "from wikibaseintegrator.datatypes import String\n",
    "from wikibaseintegrator.wbi_config import config"
   ]
  },
  {
   "cell_type": "code",
   "execution_count": 2,
   "outputs": [],
   "source": [
    "WDUSER = ''\n",
    "WDPASS = ''"
   ],
   "metadata": {
    "collapsed": false,
    "pycharm": {
     "name": "#%%\n"
    }
   }
  },
  {
   "cell_type": "markdown",
   "source": [
    "Set default variables"
   ],
   "metadata": {
    "collapsed": false
   }
  },
  {
   "cell_type": "code",
   "execution_count": 3,
   "outputs": [],
   "source": [
    "config['MEDIAWIKI_API_URL'] = 'https://test.wikidata.org/w/api.php'\n",
    "config['USER_AGENT'] = 'Lexeme Write Notebook'"
   ],
   "metadata": {
    "collapsed": false,
    "pycharm": {
     "name": "#%%\n"
    }
   }
  },
  {
   "cell_type": "markdown",
   "source": [
    "Create login and WikibaseIntegrator object"
   ],
   "metadata": {
    "collapsed": false
   }
  },
  {
   "cell_type": "code",
   "execution_count": 4,
   "outputs": [
    {
     "name": "stdout",
     "output_type": "stream",
     "text": [
      "Successfully logged in as MystBot\n"
     ]
    }
   ],
   "source": [
    "login = wbi_login.Login(auth_method='login', user=WDUSER, password=WDPASS,\n",
    "                        mediawiki_api_url='https://test.wikidata.org/w/api.php')\n",
    "wbi = WikibaseIntegrator(login=login)"
   ],
   "metadata": {
    "collapsed": false,
    "pycharm": {
     "name": "#%%\n"
    }
   }
  },
  {
   "cell_type": "markdown",
   "source": [
    "Create a new Item object"
   ],
   "metadata": {
    "collapsed": false
   }
  },
  {
   "cell_type": "code",
   "execution_count": 5,
   "id": "5ce0df1e",
   "metadata": {},
   "outputs": [],
   "source": [
    "new_item = wbi.item.new()"
   ]
  },
  {
   "cell_type": "markdown",
   "source": [
    "Set labels"
   ],
   "metadata": {
    "collapsed": false
   }
  },
  {
   "cell_type": "code",
   "execution_count": 6,
   "outputs": [
    {
     "data": {
      "text/plain": "<LanguageValue @36a1d0 _LanguageValue__language='fr' _LanguageValue__value='Nouvel élément' _LanguageValue__removed=False>"
     },
     "execution_count": 6,
     "metadata": {},
     "output_type": "execute_result"
    }
   ],
   "source": [
    "new_item.labels.set('en', 'New item')\n",
    "new_item.labels.set('fr', 'Nouvel élément')"
   ],
   "metadata": {
    "collapsed": false,
    "pycharm": {
     "name": "#%%\n"
    }
   }
  },
  {
   "cell_type": "markdown",
   "source": [
    "Set aliases"
   ],
   "metadata": {
    "collapsed": false
   }
  },
  {
   "cell_type": "code",
   "execution_count": 7,
   "outputs": [
    {
     "data": {
      "text/plain": "<Aliases @36a650 _Aliases__aliases={'en': [<Alias @36a110 _LanguageValue__language='en' _LanguageValue__value='Item' _LanguageValue__removed=False>], 'fr': [<Alias @36b670 _LanguageValue__language='fr' _LanguageValue__value='Élément' _LanguageValue__removed=False>]}>"
     },
     "execution_count": 7,
     "metadata": {},
     "output_type": "execute_result"
    }
   ],
   "source": [
    "new_item.aliases.set('en', 'Item')\n",
    "new_item.aliases.set('fr', 'Élément')"
   ],
   "metadata": {
    "collapsed": false,
    "pycharm": {
     "name": "#%%\n"
    }
   }
  },
  {
   "cell_type": "markdown",
   "source": [
    "Set descriptions"
   ],
   "metadata": {
    "collapsed": false
   }
  },
  {
   "cell_type": "code",
   "execution_count": 8,
   "outputs": [
    {
     "data": {
      "text/plain": "<LanguageValue @36b4c0 _LanguageValue__language='fr' _LanguageValue__value='Un élément fraichement créé' _LanguageValue__removed=False>"
     },
     "execution_count": 8,
     "metadata": {},
     "output_type": "execute_result"
    }
   ],
   "source": [
    "new_item.descriptions.set('en', 'A freshly created element')\n",
    "new_item.descriptions.set('fr', 'Un élément fraichement créé')"
   ],
   "metadata": {
    "collapsed": false,
    "pycharm": {
     "name": "#%%\n"
    }
   }
  },
  {
   "cell_type": "markdown",
   "source": [
    "Create a claim and add it to the new item"
   ],
   "metadata": {
    "collapsed": false
   }
  },
  {
   "cell_type": "code",
   "execution_count": 9,
   "outputs": [
    {
     "data": {
      "text/plain": "<Claims @369f60 _Claims__claims={'P31533': [<String @3c80d0 _Claim__mainsnak=<Snak @3c8160 _Snak__snaktype=<WikibaseSnakType.KNOWN_VALUE: 'value'> _Snak__property_number='P31533' _Snak__hash=None _Snak__datavalue={'value': 'A String property', 'type': 'string'} _Snak__datatype='string'> _Claim__type='statement' _Claim__qualifiers=<Qualifiers @3c8310 _Qualifiers__qualifiers={}> _Claim__qualifiers_order=[] _Claim__id=None _Claim__rank=<WikibaseRank.NORMAL: 'normal'> _Claim__removed=False _Claim__references=<References @3c8580 _References__references=[]>>]}>"
     },
     "execution_count": 9,
     "metadata": {},
     "output_type": "execute_result"
    }
   ],
   "source": [
    "new_claim = String(prop_nr='P31533', value='A String property')\n",
    "\n",
    "new_item.claims.add(new_claim)"
   ],
   "metadata": {
    "collapsed": false,
    "pycharm": {
     "name": "#%%\n"
    }
   }
  },
  {
   "cell_type": "markdown",
   "source": [
    "Write the new item to the Wikibase instance"
   ],
   "metadata": {
    "collapsed": false
   }
  },
  {
   "cell_type": "code",
   "execution_count": 10,
   "id": "29c22ef2",
   "metadata": {
    "pycharm": {
     "name": "#%%\n"
    }
   },
   "outputs": [
    {
     "data": {
      "text/plain": "<Item @36ab30 api=<wikibaseintegrator.wikibaseintegrator.WikibaseIntegrator object at 0x000001CC3B36ACE0>\n\t lastrevid=551951\n\t type='item'\n\t id='Q222825'\n\t claims=<Claims @36bfa0 _Claims__claims={'P31533': [<String @36b4f0 _Claim__mainsnak=<Snak @36bfd0 _Snak__snaktype=<WikibaseSnakType.KNOWN_VALUE: 'value'> _Snak__property_number='P31533' _Snak__hash='112d32b098a091cc1398c779e76c763a523d4ffc' _Snak__datavalue={'value': 'A String property', 'type': 'string'} _Snak__datatype='string'> _Claim__type='statement' _Claim__qualifiers=<Qualifiers @36a980 _Qualifiers__qualifiers={}> _Claim__qualifiers_order=[] _Claim__id='Q222825$FE2928B1-3353-49D1-B6E2-C87ACCDCAB0D' _Claim__rank=<WikibaseRank.NORMAL: 'normal'> _Claim__removed=False _Claim__references=<References @36ba00 _References__references=[]>>]}>\n\t fast_run_container=None\n\t debug=False\n\t labels=<Labels @36b580 _LanguageValues__values={'en': <LanguageValue @36b7c0 _LanguageValue__language='en' _LanguageValue__value='New item' _LanguageValue__removed=False>, 'fr': <LanguageValue @36b430 _LanguageValue__language='fr' _LanguageValue__value='Nouvel élément' _LanguageValue__removed=False>}>\n\t descriptions=<Descriptions @36aaa0 _LanguageValues__values={'en': <LanguageValue @36b460 _LanguageValue__language='en' _LanguageValue__value='A freshly created element' _LanguageValue__removed=False>, 'fr': <LanguageValue @36ae60 _LanguageValue__language='fr' _LanguageValue__value='Un élément fraichement créé' _LanguageValue__removed=False>}>\n\t aliases=<Aliases @369c60 _Aliases__aliases={'en': [<Alias @36ae00 _LanguageValue__language='en' _LanguageValue__value='Item' _LanguageValue__removed=False>], 'fr': [<Alias @3c8430 _LanguageValue__language='fr' _LanguageValue__value='Élément' _LanguageValue__removed=False>]}>\n\t sitelinks=<Sitelinks @36ad10 sitelinks={}>>"
     },
     "execution_count": 10,
     "metadata": {},
     "output_type": "execute_result"
    }
   ],
   "source": [
    "new_item.write()"
   ]
  }
 ],
 "metadata": {
  "kernelspec": {
   "display_name": "Python 3 (ipykernel)",
   "language": "python",
   "name": "python3"
  },
  "language_info": {
   "codemirror_mode": {
    "name": "ipython",
    "version": 3
   },
   "file_extension": ".py",
   "mimetype": "text/x-python",
   "name": "python",
   "nbconvert_exporter": "python",
   "pygments_lexer": "ipython3",
   "version": "3.9.1"
  }
 },
 "nbformat": 4,
 "nbformat_minor": 5
}
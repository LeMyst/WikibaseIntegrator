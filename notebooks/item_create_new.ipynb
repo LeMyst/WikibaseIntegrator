{
 "cells": [
  {
   "cell_type": "markdown",
   "id": "3bc67e37",
   "metadata": {},
   "source": [
    "# Create a new Item"
   ]
  },
  {
   "cell_type": "markdown",
   "id": "3646845d",
   "metadata": {},
   "source": [
    "Load wikibaseintegrator"
   ]
  },
  {
   "cell_type": "code",
   "execution_count": 1,
   "id": "498b50c2",
   "metadata": {},
   "outputs": [],
   "source": [
    "from wikibaseintegrator.models import Qualifiers, References, Reference\n",
    "\n",
    "from wikibaseintegrator import WikibaseIntegrator\n",
    "from wikibaseintegrator import wbi_login\n",
    "from wikibaseintegrator import datatypes\n",
    "from wikibaseintegrator.wbi_config import config"
   ]
  },
  {
   "cell_type": "code",
   "execution_count": 2,
   "id": "90b179a6",
   "metadata": {},
   "outputs": [],
   "source": [
    "WDUSER = ''\n",
    "WDPASS = ''"
   ]
  },
  {
   "cell_type": "markdown",
   "id": "bb9948a9",
   "metadata": {},
   "source": [
    "Set default variables"
   ]
  },
  {
   "cell_type": "code",
   "execution_count": 3,
   "id": "2ffe3908",
   "metadata": {},
   "outputs": [],
   "source": [
    "config['MEDIAWIKI_API_URL'] = 'https://test.wikidata.org/w/api.php'\n",
    "config['USER_AGENT'] = 'Lexeme Write Notebook'"
   ]
  },
  {
   "cell_type": "markdown",
   "id": "27e3932f",
   "metadata": {},
   "source": [
    "Create login and WikibaseIntegrator object"
   ]
  },
  {
   "cell_type": "code",
   "execution_count": 4,
   "id": "4963fc82",
   "metadata": {},
   "outputs": [],
   "source": [
    "login = wbi_login.Login(user=WDUSER, password=WDPASS, mediawiki_api_url='https://test.wikidata.org/w/api.php')\n",
    "wbi = WikibaseIntegrator(login=login)"
   ]
  },
  {
   "cell_type": "markdown",
   "id": "c8b2ce02",
   "metadata": {},
   "source": [
    "Create a new Item object"
   ]
  },
  {
   "cell_type": "code",
   "execution_count": 5,
   "id": "5ce0df1e",
   "metadata": {},
   "outputs": [],
   "source": [
    "new_item = wbi.item.new()"
   ]
  },
  {
   "cell_type": "markdown",
   "id": "00f46d7d",
   "metadata": {},
   "source": [
    "Set labels"
   ]
  },
  {
   "cell_type": "code",
   "execution_count": 6,
   "id": "71cd2848",
   "metadata": {},
   "outputs": [
    {
     "data": {
      "text/plain": "<LanguageValue @f86310 _LanguageValue__language='fr' _LanguageValue__value='Nouvel élément' _LanguageValue__removed=False>"
     },
     "execution_count": 6,
     "metadata": {},
     "output_type": "execute_result"
    }
   ],
   "source": [
    "new_item.labels.set('en', 'New item')\n",
    "new_item.labels.set('fr', 'Nouvel élément')"
   ]
  },
  {
   "cell_type": "markdown",
   "id": "cef7ce93",
   "metadata": {},
   "source": [
    "Set aliases"
   ]
  },
  {
   "cell_type": "code",
   "execution_count": 7,
   "id": "7ada4b6a",
   "metadata": {},
   "outputs": [
    {
     "data": {
      "text/plain": "<Aliases @f76210 _Aliases__aliases={'en': [<Alias @f94c10 _LanguageValue__language='en' _LanguageValue__value='Item' _LanguageValue__removed=False>], 'fr': [<Alias @f94d10 _LanguageValue__language='fr' _LanguageValue__value='Élément' _LanguageValue__removed=False>]}>"
     },
     "execution_count": 7,
     "metadata": {},
     "output_type": "execute_result"
    }
   ],
   "source": [
    "new_item.aliases.set('en', 'Item')\n",
    "new_item.aliases.set('fr', 'Élément')"
   ]
  },
  {
   "cell_type": "markdown",
   "id": "7185bec3",
   "metadata": {},
   "source": [
    "Set descriptions"
   ]
  },
  {
   "cell_type": "code",
   "execution_count": 8,
   "id": "a2a3b081",
   "metadata": {},
   "outputs": [
    {
     "data": {
      "text/plain": "<LanguageValue @f95610 _LanguageValue__language='fr' _LanguageValue__value='Un élément fraichement créé' _LanguageValue__removed=False>"
     },
     "execution_count": 8,
     "metadata": {},
     "output_type": "execute_result"
    }
   ],
   "source": [
    "new_item.descriptions.set('en', 'A freshly created element')\n",
    "new_item.descriptions.set('fr', 'Un élément fraichement créé')"
   ]
  },
  {
   "cell_type": "markdown",
   "id": "078c3b4b",
   "metadata": {},
   "source": [
    "Create a claim, with qualifiers and references, and add it to the new item entity"
   ]
  },
  {
   "cell_type": "code",
   "execution_count": 9,
   "id": "ac4b06df",
   "metadata": {},
   "outputs": [
    {
     "data": {
      "text/plain": "<Claims @f77550 _Claims__claims={'P31533': [<String @f9e350 _Claim__mainsnak=<Snak @f9e010 _Snak__snaktype=<WikibaseSnakType.KNOWN_VALUE: 'value'> _Snak__property_number='P31533' _Snak__hash=None _Snak__datavalue={'value': 'A String property', 'type': 'string'} _Snak__datatype='string'> _Claim__type='statement' _Claim__qualifiers=<Qualifiers @f96050 _Qualifiers__qualifiers={'P828': [<Snak @6ab110 _Snak__snaktype=<WikibaseSnakType.KNOWN_VALUE: 'value'> _Snak__property_number='P828' _Snak__hash=None _Snak__datavalue={'value': 'Item qualifier', 'type': 'string'} _Snak__datatype='string'>]}> _Claim__qualifiers_order=[] _Claim__id=None _Claim__rank=<WikibaseRank.NORMAL: 'normal'> _Claim__removed=False _Claim__references=<References @f77250 _References__references=[<Reference @f950d0 _Reference__hash=None _Reference__snaks=<Snaks @f96110 snaks={'P828': [<Snak @f9d390 _Snak__snaktype=<WikibaseSnakType.KNOWN_VALUE: 'value'> _Snak__property_number='P828' _Snak__hash=None _Snak__datavalue={'value': 'Item string reference', 'type': 'string'} _Snak__datatype='string'>]}> _Reference__snaks_order=[]>, <Reference @f947d0 _Reference__hash=None _Reference__snaks=<Snaks @f9df90 snaks={'P828': [<Snak @f9e150 _Snak__snaktype=<WikibaseSnakType.KNOWN_VALUE: 'value'> _Snak__property_number='P828' _Snak__hash=None _Snak__datavalue={'value': 'Another item string reference', 'type': 'string'} _Snak__datatype='string'>]}> _Reference__snaks_order=[]>]>>], 'P74': [<Time @f9e290 _Claim__mainsnak=<Snak @f9e190 _Snak__snaktype=<WikibaseSnakType.KNOWN_VALUE: 'value'> _Snak__property_number='P74' _Snak__hash=None _Snak__datavalue={'value': {'time': '+2022-11-13T00:00:00Z', 'before': 0, 'after': 0, 'precision': 11, 'timezone': 0, 'calendarmodel': 'http://www.wikidata.org/entity/Q1985727'}, 'type': 'time'} _Snak__datatype='time'> _Claim__type='statement' _Claim__qualifiers=<Qualifiers @f9e210 _Qualifiers__qualifiers={}> _Claim__qualifiers_order=[] _Claim__id=None _Claim__rank=<WikibaseRank.NORMAL: 'normal'> _Claim__removed=False _Claim__references=<References @197f50 _References__references=[]>>]}>"
     },
     "execution_count": 9,
     "metadata": {},
     "output_type": "execute_result"
    }
   ],
   "source": [
    "new_qualifiers = Qualifiers()\n",
    "new_qualifiers.add(datatypes.String(prop_nr='P828', value='Item qualifier'))\n",
    "\n",
    "new_references = References()\n",
    "new_reference1 = Reference()\n",
    "new_reference1.add(datatypes.String(prop_nr='P828', value='Item string reference'))\n",
    "\n",
    "new_reference2 = Reference()\n",
    "new_reference2.add(datatypes.String(prop_nr='P828', value='Another item string reference'))\n",
    "\n",
    "new_references.add(new_reference1)\n",
    "new_references.add(new_reference2)\n",
    "\n",
    "new_claim_string = datatypes.String(prop_nr='P31533', value='A String property', qualifiers=new_qualifiers, references=new_references)\n",
    "\n",
    "new_item.claims.add(new_claim_string)\n",
    "\n",
    "new_claim_time = datatypes.Time(prop_nr='P74', time='now')\n",
    "\n",
    "new_item.claims.add(new_claim_time)"
   ]
  },
  {
   "cell_type": "markdown",
   "id": "b2e30176",
   "metadata": {},
   "source": [
    "Write the new item to the Wikibase instance"
   ]
  },
  {
   "cell_type": "code",
   "execution_count": 10,
   "id": "29c22ef2",
   "metadata": {},
   "outputs": [
    {
     "data": {
      "text/plain": "<ItemEntity @f74710 _BaseEntity__api=<wikibaseintegrator.wikibaseintegrator.WikibaseIntegrator object at 0x000002C22AF76F50>\n\t _BaseEntity__title=None\n\t _BaseEntity__pageid=None\n\t _BaseEntity__lastrevid=606986\n\t _BaseEntity__type='item'\n\t _BaseEntity__id='Q226854'\n\t _BaseEntity__claims=<Claims @f95b50 _Claims__claims={'P31533': [<String @f69dd0 _Claim__mainsnak=<Snak @f94650 _Snak__snaktype=<WikibaseSnakType.KNOWN_VALUE: 'value'> _Snak__property_number='P31533' _Snak__hash='112d32b098a091cc1398c779e76c763a523d4ffc' _Snak__datavalue={'value': 'A String property', 'type': 'string'} _Snak__datatype='string'> _Claim__type='statement' _Claim__qualifiers=<Qualifiers @f961d0 _Qualifiers__qualifiers={'P828': [<Snak @f94a50 _Snak__snaktype=<WikibaseSnakType.KNOWN_VALUE: 'value'> _Snak__property_number='P828' _Snak__hash='8d721edd0365e35ed006822601a4837b35e68fd6' _Snak__datavalue={'value': 'Item qualifier', 'type': 'string'} _Snak__datatype='string'>]}> _Claim__qualifiers_order=['P828'] _Claim__id='Q226854$B2DCE665-29CC-44C4-B4EC-E0BC43FFC4F0' _Claim__rank=<WikibaseRank.NORMAL: 'normal'> _Claim__removed=False _Claim__references=<References @f9f3d0 _References__references=[<Reference @f9f310 _Reference__hash='9820f3e32182f8b5575be8b9cf55b9c7e5fbf269' _Reference__snaks=<Snaks @f9eb90 snaks={'P828': [<Snak @f9f210 _Snak__snaktype=<WikibaseSnakType.KNOWN_VALUE: 'value'> _Snak__property_number='P828' _Snak__hash='811577f0f42a7059f39bd6b169366bb1fb2f9af3' _Snak__datavalue={'value': 'Item string reference', 'type': 'string'} _Snak__datatype='string'>]}> _Reference__snaks_order=['P828']>, <Reference @f9d210 _Reference__hash='0d2ff45b3eace5dd184ad5f4ac0d1c6eff35e4ac' _Reference__snaks=<Snaks @f9f110 snaks={'P828': [<Snak @f9e550 _Snak__snaktype=<WikibaseSnakType.KNOWN_VALUE: 'value'> _Snak__property_number='P828' _Snak__hash='774c2b3d70f072fb26d05a95d24445fbc8b2534e' _Snak__datavalue={'value': 'Another item string reference', 'type': 'string'} _Snak__datatype='string'>]}> _Reference__snaks_order=['P828']>]>>], 'P74': [<Time @651610 _Claim__mainsnak=<Snak @f9f0d0 _Snak__snaktype=<WikibaseSnakType.KNOWN_VALUE: 'value'> _Snak__property_number='P74' _Snak__hash='45dfd87b246df2b67ee0dfa3d5dc82240bad913f' _Snak__datavalue={'value': {'time': '+2022-11-13T00:00:00Z', 'timezone': 0, 'before': 0, 'after': 0, 'precision': 11, 'calendarmodel': 'http://www.wikidata.org/entity/Q1985727'}, 'type': 'time'} _Snak__datatype='time'> _Claim__type='statement' _Claim__qualifiers=<Qualifiers @f9fc50 _Qualifiers__qualifiers={}> _Claim__qualifiers_order=[] _Claim__id='Q226854$C92263EF-8D6C-42FE-B991-7821498C98A4' _Claim__rank=<WikibaseRank.NORMAL: 'normal'> _Claim__removed=False _Claim__references=<References @f9fd90 _References__references=[]>>]}>\n\t _ItemEntity__labels=<Labels @f9ee50 _LanguageValues__values={'en': <LanguageValue @f9fdd0 _LanguageValue__language='en' _LanguageValue__value='New item' _LanguageValue__removed=False>, 'fr': <LanguageValue @f9f7d0 _LanguageValue__language='fr' _LanguageValue__value='Nouvel élément' _LanguageValue__removed=False>}>\n\t _ItemEntity__descriptions=<Descriptions @f9f710 _LanguageValues__values={'en': <LanguageValue @f9f910 _LanguageValue__language='en' _LanguageValue__value='A freshly created element' _LanguageValue__removed=False>, 'fr': <LanguageValue @f9f450 _LanguageValue__language='fr' _LanguageValue__value='Un élément fraichement créé' _LanguageValue__removed=False>}>\n\t _ItemEntity__aliases=<Aliases @f95590 _Aliases__aliases={'en': [<Alias @f77610 _LanguageValue__language='en' _LanguageValue__value='Item' _LanguageValue__removed=False>], 'fr': [<Alias @f74590 _LanguageValue__language='fr' _LanguageValue__value='Élément' _LanguageValue__removed=False>]}>\n\t _ItemEntity__sitelinks=<Sitelinks @f77690 sitelinks={}>>"
     },
     "execution_count": 10,
     "metadata": {},
     "output_type": "execute_result"
    }
   ],
   "source": [
    "new_item.write()\n"
   ]
  }
 ],
 "metadata": {
  "kernelspec": {
   "display_name": "Python 3 (ipykernel)",
   "language": "python",
   "name": "python3"
  },
  "language_info": {
   "codemirror_mode": {
    "name": "ipython",
    "version": 3
   },
   "file_extension": ".py",
   "mimetype": "text/x-python",
   "name": "python",
   "nbconvert_exporter": "python",
   "pygments_lexer": "ipython3",
   "version": "3.10.5"
  }
 },
 "nbformat": 4,
 "nbformat_minor": 5
}

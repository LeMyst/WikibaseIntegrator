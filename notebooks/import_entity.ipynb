{
 "cells": [
  {
   "cell_type": "markdown",
   "id": "3bc67e37",
   "metadata": {},
   "source": [
    "# Import an entity from one instance to another."
   ]
  },
  {
   "cell_type": "markdown",
   "id": "3646845d",
   "metadata": {},
   "source": [
    "Load wikibaseintegrator"
   ]
  },
  {
   "cell_type": "code",
   "execution_count": 1,
   "id": "498b50c2",
   "metadata": {},
   "outputs": [],
   "source": [
    "from wikibaseintegrator import WikibaseIntegrator, wbi_login\n",
    "from wikibaseintegrator.models import Claims\n",
    "from wikibaseintegrator.wbi_config import config"
   ]
  },
  {
   "cell_type": "markdown",
   "source": [
    "Set default variables"
   ],
   "metadata": {
    "collapsed": false
   }
  },
  {
   "cell_type": "code",
   "execution_count": 2,
   "outputs": [],
   "source": [
    "config['USER_AGENT'] = 'MyWikibaseBot/1.0 (https://www.wikidata.org/wiki/User:MyUsername)'"
   ],
   "metadata": {
    "collapsed": false
   }
  },
  {
   "cell_type": "markdown",
   "source": [
    "Create the two login objects, one for each Wikibase instance"
   ],
   "metadata": {
    "collapsed": false
   }
  },
  {
   "cell_type": "code",
   "execution_count": 3,
   "outputs": [],
   "source": [
    "WDUSER = ''\n",
    "WDPASS = ''\n",
    "login_wikidata = wbi_login.Login(user=WDUSER, password=WDPASS, mediawiki_api_url='https://www.wikidata.org/w/api.php')\n",
    "\n",
    "WDUSER_test = ''\n",
    "WDPASS_test = ''\n",
    "login_testwikidata = wbi_login.Login(user=WDUSER_test, password=WDPASS_test, mediawiki_api_url='https://test.wikidata.org/w/api.php')"
   ],
   "metadata": {
    "collapsed": false
   }
  },
  {
   "cell_type": "markdown",
   "id": "ee386bbb",
   "metadata": {},
   "source": [
    "Create WikibaseIntegrator object"
   ]
  },
  {
   "cell_type": "code",
   "execution_count": 4,
   "id": "f5131e52",
   "metadata": {},
   "outputs": [],
   "source": [
    "wbi = WikibaseIntegrator()"
   ]
  },
  {
   "cell_type": "markdown",
   "source": [
    "We load the source entity from the source Wikibase instance"
   ],
   "metadata": {
    "collapsed": false
   }
  },
  {
   "cell_type": "code",
   "execution_count": 5,
   "id": "5ce0df1e",
   "metadata": {},
   "outputs": [],
   "source": [
    "entity = wbi.item.get('Q582', mediawiki_api_url='https://www.wikidata.org/w/api.php', login=login_wikidata)"
   ]
  },
  {
   "cell_type": "markdown",
   "id": "b642a951",
   "metadata": {},
   "source": [
    "We need to remove or replace the claims. Because they don't exist (or not with the same ID) on the destination instance."
   ]
  },
  {
   "cell_type": "code",
   "execution_count": 6,
   "id": "29c22ef2",
   "metadata": {},
   "outputs": [],
   "source": [
    "entity.claims = Claims()"
   ]
  },
  {
   "cell_type": "markdown",
   "id": "b3f25818",
   "metadata": {},
   "source": [
    "Write the entity to the destination instance, with the parameter `as_new` who automatically remove some data from the source entity."
   ]
  },
  {
   "cell_type": "code",
   "execution_count": 7,
   "id": "e3639082",
   "metadata": {},
   "outputs": [
    {
     "data": {
      "text/plain": "<ItemEntity @6cc550 _BaseEntity__api=<wikibaseintegrator.wikibaseintegrator.WikibaseIntegrator object at 0x000001B9945AAE10>\n\t _BaseEntity__title='Q582'\n\t _BaseEntity__pageid=856\n\t _BaseEntity__lastrevid=609798\n\t _BaseEntity__type='item'\n\t _BaseEntity__id='Q227020'\n\t _BaseEntity__claims=<Claims @89f550 _Claims__claims={}>\n\t _ItemEntity__labels=<Labels @cc8d50 _LanguageValues__values={'en': <LanguageValue @6686d0 _LanguageValue__language='en' _LanguageValue__value='Villeurbanne' _LanguageValue__removed=False>, 'fr': <LanguageValue @668050 _LanguageValue__language='fr' _LanguageValue__value='Villeurbanne' _LanguageValue__removed=False>, 'it': <LanguageValue @668690 _LanguageValue__language='it' _LanguageValue__value='Villeurbanne' _LanguageValue__removed=False>, 'ar': <LanguageValue @668150 _LanguageValue__language='ar' _LanguageValue__value='فيلوربان' _LanguageValue__removed=False>, 'bg': <LanguageValue @63a250 _LanguageValue__language='bg' _LanguageValue__value='Вилюрбан' _LanguageValue__removed=False>, 'ca': <LanguageValue @63bf10 _LanguageValue__language='ca' _LanguageValue__value='Villeurbanne' _LanguageValue__removed=False>, 'ceb': <LanguageValue @63a310 _LanguageValue__language='ceb' _LanguageValue__value='Villeurbanne' _LanguageValue__removed=False>, 'cs': <LanguageValue @63a5d0 _LanguageValue__language='cs' _LanguageValue__value='Villeurbanne' _LanguageValue__removed=False>, 'cy': <LanguageValue @63ad90 _LanguageValue__language='cy' _LanguageValue__value='Villeurbanne' _LanguageValue__removed=False>, 'da': <LanguageValue @63aa10 _LanguageValue__language='da' _LanguageValue__value='Villeurbanne' _LanguageValue__removed=False>, 'de': <LanguageValue @63add0 _LanguageValue__language='de' _LanguageValue__value='Villeurbanne' _LanguageValue__removed=False>, 'eo': <LanguageValue @63ae50 _LanguageValue__language='eo' _LanguageValue__value='Villeurbanne' _LanguageValue__removed=False>, 'es': <LanguageValue @63bf90 _LanguageValue__language='es' _LanguageValue__value='Villeurbanne' _LanguageValue__removed=False>, 'eu': <LanguageValue @7f0890 _LanguageValue__language='eu' _LanguageValue__value='Villeurbanne' _LanguageValue__removed=False>, 'fa': <LanguageValue @646d0 _LanguageValue__language='fa' _LanguageValue__value='ویوربن' _LanguageValue__removed=False>, 'fi': <LanguageValue @66d50 _LanguageValue__language='fi' _LanguageValue__value='Villeurbanne' _LanguageValue__removed=False>, 'gl': <LanguageValue @58b550 _LanguageValue__language='gl' _LanguageValue__value='Villeurbanne' _LanguageValue__removed=False>, 'he': <LanguageValue @58b810 _LanguageValue__language='he' _LanguageValue__value='וילרבאן' _LanguageValue__removed=False>, 'hr': <LanguageValue @ceaad0 _LanguageValue__language='hr' _LanguageValue__value='Villeurbanne' _LanguageValue__removed=False>, 'id': <LanguageValue @93690 _LanguageValue__language='id' _LanguageValue__value='Villeurbanne' _LanguageValue__removed=False>, 'ja': <LanguageValue @935d0 _LanguageValue__language='ja' _LanguageValue__value='ヴィルールバンヌ' _LanguageValue__removed=False>, 'ka': <LanguageValue @89c90 _LanguageValue__language='ka' _LanguageValue__value='ვილერბანი' _LanguageValue__removed=False>, 'lmo': <LanguageValue @8b010 _LanguageValue__language='lmo' _LanguageValue__value='Villeurbanne' _LanguageValue__removed=False>, 'lt': <LanguageValue @89f90 _LanguageValue__language='lt' _LanguageValue__value='Vilerbanas' _LanguageValue__removed=False>, 'ms': <LanguageValue @5c650 _LanguageValue__language='ms' _LanguageValue__value='Villeurbanne' _LanguageValue__removed=False>, 'mzn': <LanguageValue @70790 _LanguageValue__language='mzn' _LanguageValue__value='ویوربن' _LanguageValue__removed=False>, 'nl': <LanguageValue @70390 _LanguageValue__language='nl' _LanguageValue__value='Villeurbanne' _LanguageValue__removed=False>, 'nn': <LanguageValue @5a9ad0 _LanguageValue__language='nn' _LanguageValue__value='Villeurbanne' _LanguageValue__removed=False>, 'oc': <LanguageValue @5a9e50 _LanguageValue__language='oc' _LanguageValue__value='Villeurbanne' _LanguageValue__removed=False>, 'pl': <LanguageValue @5abf50 _LanguageValue__language='pl' _LanguageValue__value='Villeurbanne' _LanguageValue__removed=False>, 'pms': <LanguageValue @665d50 _LanguageValue__language='pms' _LanguageValue__value='Villeurbanne' _LanguageValue__removed=False>, 'pnb': <LanguageValue @6656d0 _LanguageValue__language='pnb' _LanguageValue__value='ولےاربین' _LanguageValue__removed=False>, 'pt': <LanguageValue @666f50 _LanguageValue__language='pt' _LanguageValue__value='Villeurbanne' _LanguageValue__removed=False>, 'ro': <LanguageValue @666e90 _LanguageValue__language='ro' _LanguageValue__value='Villeurbanne' _LanguageValue__removed=False>, 'ru': <LanguageValue @666c90 _LanguageValue__language='ru' _LanguageValue__value='Вийёрбан' _LanguageValue__removed=False>, 'sco': <LanguageValue @6668d0 _LanguageValue__language='sco' _LanguageValue__value='Villeurbanne' _LanguageValue__removed=False>, 'sk': <LanguageValue @666f10 _LanguageValue__language='sk' _LanguageValue__value='Villeurbanne' _LanguageValue__removed=False>, 'sl': <LanguageValue @666d10 _LanguageValue__language='sl' _LanguageValue__value='Villeurbanne' _LanguageValue__removed=False>, 'sr': <LanguageValue @666d50 _LanguageValue__language='sr' _LanguageValue__value='Вилербан' _LanguageValue__removed=False>, 'sv': <LanguageValue @6675d0 _LanguageValue__language='sv' _LanguageValue__value='Villeurbanne' _LanguageValue__removed=False>, 'sw': <LanguageValue @666dd0 _LanguageValue__language='sw' _LanguageValue__value='Villeurbanne' _LanguageValue__removed=False>, 'uk': <LanguageValue @667190 _LanguageValue__language='uk' _LanguageValue__value='Віллербанн' _LanguageValue__removed=False>, 'vi': <LanguageValue @667110 _LanguageValue__language='vi' _LanguageValue__value='Villeurbanne' _LanguageValue__removed=False>, 'vo': <LanguageValue @6670d0 _LanguageValue__language='vo' _LanguageValue__value='Villeurbanne' _LanguageValue__removed=False>, 'war': <LanguageValue @667150 _LanguageValue__language='war' _LanguageValue__value='Villeurbanne' _LanguageValue__removed=False>, 'wuu': <LanguageValue @667290 _LanguageValue__language='wuu' _LanguageValue__value='维嘞合朋纳' _LanguageValue__removed=False>, 'zh': <LanguageValue @667210 _LanguageValue__language='zh' _LanguageValue__value='维勒班' _LanguageValue__removed=False>, 'hu': <LanguageValue @6671d0 _LanguageValue__language='hu' _LanguageValue__value='Villeurbanne' _LanguageValue__removed=False>, 'sh': <LanguageValue @667250 _LanguageValue__language='sh' _LanguageValue__value='Villeurbanne' _LanguageValue__removed=False>, 'uz': <LanguageValue @6660d0 _LanguageValue__language='uz' _LanguageValue__value='Villeurbanne' _LanguageValue__removed=False>, 'ta': <LanguageValue @667090 _LanguageValue__language='ta' _LanguageValue__value='வில்லுர்பேன்' _LanguageValue__removed=False>, 'nb': <LanguageValue @666fd0 _LanguageValue__language='nb' _LanguageValue__value='Villeurbanne' _LanguageValue__removed=False>, 'ur': <LanguageValue @666810 _LanguageValue__language='ur' _LanguageValue__value='ویوربن' _LanguageValue__removed=False>, 'et': <LanguageValue @666f90 _LanguageValue__language='et' _LanguageValue__value='Villeurbanne' _LanguageValue__removed=False>, 'be': <LanguageValue @6667d0 _LanguageValue__language='be' _LanguageValue__value='Віёрбан' _LanguageValue__removed=False>, 'be-tarask': <LanguageValue @667050 _LanguageValue__language='be-tarask' _LanguageValue__value='Вілярбан' _LanguageValue__removed=False>, 'ko': <LanguageValue @667510 _LanguageValue__language='ko' _LanguageValue__value='빌뢰르반' _LanguageValue__removed=False>, 'el': <LanguageValue @667310 _LanguageValue__language='el' _LanguageValue__value='Βιλερμπάν' _LanguageValue__removed=False>, 'lv': <LanguageValue @6672d0 _LanguageValue__language='lv' _LanguageValue__value='Vilērbāna' _LanguageValue__removed=False>, 'la': <LanguageValue @667590 _LanguageValue__language='la' _LanguageValue__value='Villeurbanne' _LanguageValue__removed=False>, 'hy': <LanguageValue @6674d0 _LanguageValue__language='hy' _LanguageValue__value='Վիյորբան' _LanguageValue__removed=False>, 'yue': <LanguageValue @667350 _LanguageValue__language='yue' _LanguageValue__value='維約班' _LanguageValue__removed=False>, 'tt': <LanguageValue @667550 _LanguageValue__language='tt' _LanguageValue__value='Вийербан' _LanguageValue__removed=False>, 'frp': <LanguageValue @667390 _LanguageValue__language='frp' _LanguageValue__value='Velorbana' _LanguageValue__removed=False>, 'tr': <LanguageValue @667010 _LanguageValue__language='tr' _LanguageValue__value='Villeurbanne' _LanguageValue__removed=False>, 'azb': <LanguageValue @667410 _LanguageValue__language='azb' _LanguageValue__value='ویوربن' _LanguageValue__removed=False>, 'hi': <LanguageValue @6677d0 _LanguageValue__language='hi' _LanguageValue__value='विल्लेबैने' _LanguageValue__removed=False>, 'th': <LanguageValue @667750 _LanguageValue__language='th' _LanguageValue__value='วีเลอร์บาน' _LanguageValue__removed=False>, 'mr': <LanguageValue @667710 _LanguageValue__language='mr' _LanguageValue__value='विलेबॅने' _LanguageValue__removed=False>, 'te': <LanguageValue @667790 _LanguageValue__language='te' _LanguageValue__value='విల్లెర్బన్నే' _LanguageValue__removed=False>, 'bn': <LanguageValue @6678d0 _LanguageValue__language='bn' _LanguageValue__value='ভিলরবান' _LanguageValue__removed=False>, 'si': <LanguageValue @667850 _LanguageValue__language='si' _LanguageValue__value='විලියුර්බන්නේ' _LanguageValue__removed=False>, 'gu': <LanguageValue @667810 _LanguageValue__language='gu' _LanguageValue__value='વિલેર્બને' _LanguageValue__removed=False>, 'kn': <LanguageValue @667890 _LanguageValue__language='kn' _LanguageValue__value='ವಿಲ್ಲೆರ್ಬರ್ನ್' _LanguageValue__removed=False>, 'mk': <LanguageValue @666750 _LanguageValue__language='mk' _LanguageValue__value='Вилербан' _LanguageValue__removed=False>, 'ast': <LanguageValue @6676d0 _LanguageValue__language='ast' _LanguageValue__value='Villeurbanne' _LanguageValue__removed=False>, 'sq': <LanguageValue @667610 _LanguageValue__language='sq' _LanguageValue__value='Villeurbanne' _LanguageValue__removed=False>, 'zh-hant': <LanguageValue @666e50 _LanguageValue__language='zh-hant' _LanguageValue__value='維勒班' _LanguageValue__removed=False>, 'ce': <LanguageValue @666e10 _LanguageValue__language='ce' _LanguageValue__value='ВилоьгӀбан' _LanguageValue__removed=False>, 'cv': <LanguageValue @667690 _LanguageValue__language='cv' _LanguageValue__value='Виллёрбан' _LanguageValue__removed=False>, 'diq': <LanguageValue @667b50 _LanguageValue__language='diq' _LanguageValue__value='Villeurbanne' _LanguageValue__removed=False>, 'io': <LanguageValue @667950 _LanguageValue__language='io' _LanguageValue__value='Villeurbanne' _LanguageValue__removed=False>, 'arz': <LanguageValue @667910 _LanguageValue__language='arz' _LanguageValue__value='فيلوربان' _LanguageValue__removed=False>, 'vec': <LanguageValue @667bd0 _LanguageValue__language='vec' _LanguageValue__value='Villeurbanne' _LanguageValue__removed=False>, 'frr': <LanguageValue @667b10 _LanguageValue__language='frr' _LanguageValue__value='Villeurbanne' _LanguageValue__removed=False>, 'os': <LanguageValue @667990 _LanguageValue__language='os' _LanguageValue__value='Виллёрбан' _LanguageValue__removed=False>, 'lld': <LanguageValue @667b90 _LanguageValue__language='lld' _LanguageValue__value='Villeurbanne' _LanguageValue__removed=False>, 'ga': <LanguageValue @6679d0 _LanguageValue__language='ga' _LanguageValue__value='Villeurbanne' _LanguageValue__removed=False>}>\n\t _ItemEntity__descriptions=<Descriptions @669d90 _LanguageValues__values={'en': <LanguageValue @669d50 _LanguageValue__language='en' _LanguageValue__value='commune in the metropolis of Lyon, France' _LanguageValue__removed=False>, 'it': <LanguageValue @669d10 _LanguageValue__language='it' _LanguageValue__value='comune francese' _LanguageValue__removed=False>, 'ca': <LanguageValue @669cd0 _LanguageValue__language='ca' _LanguageValue__value='ciutat de França' _LanguageValue__removed=False>, 'es': <LanguageValue @669c90 _LanguageValue__language='es' _LanguageValue__value='comuna francesa' _LanguageValue__removed=False>, 'fr': <LanguageValue @669c50 _LanguageValue__language='fr' _LanguageValue__value='commune française de la métropole de Lyon' _LanguageValue__removed=False>, 'nl': <LanguageValue @669c10 _LanguageValue__language='nl' _LanguageValue__value='gemeente in het Franse departement Métropole de Lyon' _LanguageValue__removed=False>, 'oc': <LanguageValue @669bd0 _LanguageValue__language='oc' _LanguageValue__value='una comuna francesa' _LanguageValue__removed=False>, 'ru': <LanguageValue @669b90 _LanguageValue__language='ru' _LanguageValue__value='коммуна Франции' _LanguageValue__removed=False>, 'de': <LanguageValue @669b50 _LanguageValue__language='de' _LanguageValue__value='französische Industriestadt' _LanguageValue__removed=False>, 'is': <LanguageValue @669b10 _LanguageValue__language='is' _LanguageValue__value='sveitarfélag í Frakklandi' _LanguageValue__removed=False>, 'pt': <LanguageValue @669ad0 _LanguageValue__language='pt' _LanguageValue__value='comuna francesa' _LanguageValue__removed=False>, 'zh': <LanguageValue @669a90 _LanguageValue__language='zh' _LanguageValue__value='法国里昂大都会市镇' _LanguageValue__removed=False>, 'zh-hans': <LanguageValue @669a50 _LanguageValue__language='zh-hans' _LanguageValue__value='法国市镇' _LanguageValue__removed=False>, 'zh-hant': <LanguageValue @669a10 _LanguageValue__language='zh-hant' _LanguageValue__value='法國市鎮' _LanguageValue__removed=False>, 'nb': <LanguageValue @6699d0 _LanguageValue__language='nb' _LanguageValue__value='kommune i métropole de Lyon i Frankrike' _LanguageValue__removed=False>, 'uk': <LanguageValue @669990 _LanguageValue__language='uk' _LanguageValue__value='місто та муніципалітет у Франції, у регіоні Рона-Альпи, департамент Рона' _LanguageValue__removed=False>, 'hu': <LanguageValue @669950 _LanguageValue__language='hu' _LanguageValue__value='város Rhône megyében, Rhône-Alpes régió, Franciaország' _LanguageValue__removed=False>, 'el': <LanguageValue @669910 _LanguageValue__language='el' _LanguageValue__value='γαλλική κοινότητα της μητρόπολης της Λιόν' _LanguageValue__removed=False>, 'lv': <LanguageValue @6698d0 _LanguageValue__language='lv' _LanguageValue__value='pilsēta Francijā, Ronas-Alpu reģionā' _LanguageValue__removed=False>, 'br': <LanguageValue @669890 _LanguageValue__language='br' _LanguageValue__value=\"kumun Bro-C'hall\" _LanguageValue__removed=False>, 'eu': <LanguageValue @669850 _LanguageValue__language='eu' _LanguageValue__value='Frantziako udalerria' _LanguageValue__removed=False>, 'he': <LanguageValue @669810 _LanguageValue__language='he' _LanguageValue__value='עיר בצרפת' _LanguageValue__removed=False>, 'sq': <LanguageValue @6697d0 _LanguageValue__language='sq' _LanguageValue__value='komunë në departamentin Isère, Francë' _LanguageValue__removed=False>, 'be': <LanguageValue @669790 _LanguageValue__language='be' _LanguageValue__value='горад у Францыі' _LanguageValue__removed=False>, 'mk': <LanguageValue @669750 _LanguageValue__language='mk' _LanguageValue__value='општина во Франција' _LanguageValue__removed=False>, 'cs': <LanguageValue @669710 _LanguageValue__language='cs' _LanguageValue__value='obec v metropoli Lyon ve Francii' _LanguageValue__removed=False>, 'sr': <LanguageValue @6696d0 _LanguageValue__language='sr' _LanguageValue__value='насеље у Француској' _LanguageValue__removed=False>, 'sk': <LanguageValue @669690 _LanguageValue__language='sk' _LanguageValue__value='mesto vo Francúzsku' _LanguageValue__removed=False>, 'ace': <LanguageValue @669650 _LanguageValue__language='ace' _LanguageValue__value='komune di Peurancih' _LanguageValue__removed=False>, 'fa': <LanguageValue @669610 _LanguageValue__language='fa' _LanguageValue__value='شهری در فرانسه' _LanguageValue__removed=False>, 'bn': <LanguageValue @6695d0 _LanguageValue__language='bn' _LanguageValue__value='দক্ষিণ-পূর্ব ফ্রান্সের লিওঁ পৌরপুঞ্জের একটি কম্যুন (শহর)' _LanguageValue__removed=False>, 'vec': <LanguageValue @669590 _LanguageValue__language='vec' _LanguageValue__value='comun fransexo' _LanguageValue__removed=False>, 'ar': <LanguageValue @669550 _LanguageValue__language='ar' _LanguageValue__value='بلدية في رون، فرنسا' _LanguageValue__removed=False>, 'ko': <LanguageValue @669510 _LanguageValue__language='ko' _LanguageValue__value='프랑스 동부 론알프 론주의 도시' _LanguageValue__removed=False>, 'ast': <LanguageValue @6694d0 _LanguageValue__language='ast' _LanguageValue__value='comuña de la Metrópolis de Lyon, Auvernia-Ródanu-Alpes, Francia' _LanguageValue__removed=False>, 'ja': <LanguageValue @669490 _LanguageValue__language='ja' _LanguageValue__value='フランスのコミューン' _LanguageValue__removed=False>, 'arz': <LanguageValue @669450 _LanguageValue__language='arz' _LanguageValue__value='بلديه فى فرنسا' _LanguageValue__removed=False>, 'lld': <LanguageValue @669410 _LanguageValue__language='lld' _LanguageValue__value='zità de la Franzia' _LanguageValue__removed=False>}>\n\t _ItemEntity__aliases=<Aliases @66a710 _Aliases__aliases={'uk': [<Alias @66a6d0 _LanguageValue__language='uk' _LanguageValue__value='Війєрбан' _LanguageValue__removed=False>], 'be': [<Alias @66a690 _LanguageValue__language='be' _LanguageValue__value='Вілербан' _LanguageValue__removed=False>, <Alias @66a650 _LanguageValue__language='be' _LanguageValue__value='Віербан' _LanguageValue__removed=False>]}>\n\t _ItemEntity__sitelinks=<Sitelinks @66a810 sitelinks={}>>"
     },
     "execution_count": 7,
     "metadata": {},
     "output_type": "execute_result"
    }
   ],
   "source": [
    "entity.write(mediawiki_api_url='https://test.wikidata.org/w/api.php', login=login_testwikidata, as_new=True)\n"
   ]
  }
 ],
 "metadata": {
  "kernelspec": {
   "display_name": "Python 3 (ipykernel)",
   "language": "python",
   "name": "python3"
  },
  "language_info": {
   "codemirror_mode": {
    "name": "ipython",
    "version": 3
   },
   "file_extension": ".py",
   "mimetype": "text/x-python",
   "name": "python",
   "nbconvert_exporter": "python",
   "pygments_lexer": "ipython3",
   "version": "3.10.1"
  }
 },
 "nbformat": 4,
 "nbformat_minor": 5
}

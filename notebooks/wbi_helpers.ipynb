{
 "cells": [
  {
   "cell_type": "markdown",
   "source": [
    "# WBI Helper methods"
   ],
   "metadata": {
    "collapsed": false
   },
   "id": "c194b6fd42b55611"
  },
  {
   "cell_type": "code",
   "outputs": [],
   "source": [
    "from wikibaseintegrator.wbi_helpers import get_user_agent, search_entities"
   ],
   "metadata": {
    "collapsed": false,
    "ExecuteTime": {
     "end_time": "2024-01-06T23:14:54.253210100Z",
     "start_time": "2024-01-06T23:14:53.979186800Z"
    }
   },
   "id": "abe42bad49a72d79",
   "execution_count": 1
  },
  {
   "cell_type": "markdown",
   "source": [
    "Search for \"Villeurbanne\" and return the result as a dictionary"
   ],
   "metadata": {
    "collapsed": false
   },
   "id": "cb9f7dcb08891cbf"
  },
  {
   "cell_type": "code",
   "outputs": [
    {
     "data": {
      "text/plain": "[{'id': 'Q582',\n  'label': 'Villeurbanne',\n  'match': {'type': 'label', 'language': 'fr', 'text': 'Villeurbanne'},\n  'description': 'commune in the metropolis of Lyon, France',\n  'aliases': None},\n {'id': 'Q3559297',\n  'label': 'Villeurbanne handball association',\n  'match': {'type': 'label',\n   'language': 'fr',\n   'text': 'Villeurbanne handball association'},\n  'description': 'handball team of Villeurbanne, France',\n  'aliases': None},\n {'id': 'Q72647669',\n  'label': 'Villeurbanne 27ème ville de France : histoire des rues, histoire des noms',\n  'match': {'type': 'label',\n   'language': 'fr',\n   'text': 'Villeurbanne 27ème ville de France : histoire des rues, histoire des noms'},\n  'description': None,\n  'aliases': None},\n {'id': 'Q3146211',\n  'label': 'Villeurbanne City Hall',\n  'match': {'type': 'label',\n   'language': 'en',\n   'text': 'Villeurbanne City Hall'},\n  'description': None,\n  'aliases': None},\n {'id': 'Q19688776',\n  'label': 'Villeurbanne genocide stele',\n  'match': {'type': 'label',\n   'language': 'en',\n   'text': 'Villeurbanne genocide stele'},\n  'description': None,\n  'aliases': None},\n {'id': 'Q66759131',\n  'label': 'Villeurbanne war memorial',\n  'match': {'type': 'label',\n   'language': 'en',\n   'text': 'Villeurbanne war memorial'},\n  'description': 'war memorial in Villeurbanne, Rhône, France',\n  'aliases': None},\n {'id': 'Q123688456',\n  'label': 'VilleurbanneHA vs Limoges, 2015-01-17',\n  'match': {'type': 'label',\n   'language': 'en',\n   'text': 'VilleurbanneHA vs Limoges, 2015-01-17'},\n  'description': None,\n  'aliases': None},\n {'id': 'Q113249047',\n  'label': 'flag of Villeurbanne',\n  'match': {'type': 'alias', 'language': 'en', 'text': 'Villeurbanne flag'},\n  'description': None,\n  'aliases': ['Villeurbanne flag']},\n {'id': 'Q62088696',\n  'label': \"Station Vélo'v 10119\",\n  'match': {'type': 'alias',\n   'language': 'en',\n   'text': 'Villeurbanne Saint-Jean'},\n  'description': \"Vélo'v bicycle-sharing station, Lyon region, France\",\n  'aliases': ['Villeurbanne Saint-Jean']},\n {'id': 'Q1727926',\n  'label': 'canton of Villeurbanne-Sud',\n  'match': {'type': 'label', 'language': 'sk', 'text': 'Villeurbanne-Sud'},\n  'description': 'canton of France',\n  'aliases': ['Villeurbanne-Sud']},\n {'id': 'Q687021',\n  'label': 'canton of Villeurbanne-Nord',\n  'match': {'type': 'label', 'language': 'sk', 'text': 'Villeurbanne-Nord'},\n  'description': 'canton of France (until March 2015)',\n  'aliases': ['Villeurbanne-Nord']},\n {'id': 'Q1727924',\n  'label': 'canton of Villeurbanne-Centre',\n  'match': {'type': 'label', 'language': 'sk', 'text': 'Villeurbanne-Centre'},\n  'description': 'canton of France',\n  'aliases': ['Villeurbanne-Centre']},\n {'id': 'Q3098009',\n  'label': 'Gare de Villeurbanne',\n  'match': {'type': 'label', 'language': 'eo', 'text': 'Villeurbanne'},\n  'description': 'railway station in Villeurbanne, France',\n  'aliases': ['Villeurbanne']}]"
     },
     "execution_count": 2,
     "metadata": {},
     "output_type": "execute_result"
    }
   ],
   "source": [
    "search_entities(search_string=\"Villeurbanne\", language='fr', strict_language=True, dict_result=True, user_agent=get_user_agent())"
   ],
   "metadata": {
    "collapsed": false,
    "ExecuteTime": {
     "end_time": "2024-01-06T23:14:55.012040200Z",
     "start_time": "2024-01-06T23:14:54.256211500Z"
    }
   },
   "id": "b31218e13fa2c80",
   "execution_count": 2
  },
  {
   "cell_type": "markdown",
   "source": [],
   "metadata": {
    "collapsed": false
   },
   "id": "1c50af902d056e39"
  },
  {
   "cell_type": "code",
   "outputs": [],
   "source": [],
   "metadata": {
    "collapsed": false,
    "ExecuteTime": {
     "end_time": "2024-01-06T23:14:55.016039400Z",
     "start_time": "2024-01-06T23:14:55.011525700Z"
    }
   },
   "id": "ae2f8afc8709fc2d",
   "execution_count": 2
  }
 ],
 "metadata": {
  "kernelspec": {
   "display_name": "Python 3",
   "language": "python",
   "name": "python3"
  },
  "language_info": {
   "codemirror_mode": {
    "name": "ipython",
    "version": 2
   },
   "file_extension": ".py",
   "mimetype": "text/x-python",
   "name": "python",
   "nbconvert_exporter": "python",
   "pygments_lexer": "ipython2",
   "version": "2.7.6"
  }
 },
 "nbformat": 4,
 "nbformat_minor": 5
}

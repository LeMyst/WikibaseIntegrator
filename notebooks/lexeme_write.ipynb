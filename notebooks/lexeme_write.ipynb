{
 "cells": [
  {
   "cell_type": "code",
   "execution_count": 1,
   "metadata": {
    "collapsed": true
   },
   "outputs": [],
   "source": [
    "from wikibaseintegrator import WikibaseIntegrator, wbi_login, datatypes\n",
    "from wikibaseintegrator.models import Reference, References, Form, Sense\n",
    "from wikibaseintegrator.models.qualifiers import Qualifiers\n",
    "from wikibaseintegrator.wbi_config import config"
   ]
  },
  {
   "cell_type": "code",
   "execution_count": 2,
   "outputs": [],
   "source": [
    "WDUSER = ''\n",
    "WDPASS = ''"
   ],
   "metadata": {
    "collapsed": false,
    "pycharm": {
     "name": "#%%\n"
    }
   }
  },
  {
   "cell_type": "markdown",
   "source": [
    "Set default variables"
   ],
   "metadata": {
    "collapsed": false,
    "pycharm": {
     "name": "#%% md\n"
    }
   }
  },
  {
   "cell_type": "code",
   "execution_count": 3,
   "outputs": [],
   "source": [
    "config['MEDIAWIKI_API_URL'] = 'https://test.wikidata.org/w/api.php'\n",
    "config['USER_AGENT'] = 'Lexeme Write Notebook'"
   ],
   "metadata": {
    "collapsed": false,
    "pycharm": {
     "name": "#%%\n"
    }
   }
  },
  {
   "cell_type": "markdown",
   "source": [
    "Create login and WikibaseIntegrator object"
   ],
   "metadata": {
    "collapsed": false,
    "pycharm": {
     "name": "#%% md\n"
    }
   }
  },
  {
   "cell_type": "code",
   "execution_count": 4,
   "outputs": [],
   "source": [
    "login = wbi_login.Login(auth_method='clientlogin', user=WDUSER, password=WDPASS,\n",
    "                        mediawiki_api_url='https://test.wikidata.org/w/api.php')\n",
    "wbi = WikibaseIntegrator(login=login)"
   ],
   "metadata": {
    "collapsed": false,
    "pycharm": {
     "name": "#%%\n"
    }
   }
  },
  {
   "cell_type": "markdown",
   "source": [
    "# Create a new verb lexeme"
   ],
   "metadata": {
    "collapsed": false,
    "pycharm": {
     "name": "#%% md\n"
    }
   }
  },
  {
   "cell_type": "code",
   "execution_count": 5,
   "outputs": [],
   "source": [
    "lexeme = wbi.lexeme.new(lexical_category='Q1244')"
   ],
   "metadata": {
    "collapsed": false,
    "pycharm": {
     "name": "#%%\n"
    }
   }
  },
  {
   "cell_type": "markdown",
   "source": [
    "Set english and French lemmas"
   ],
   "metadata": {
    "collapsed": false,
    "pycharm": {
     "name": "#%% md\n"
    }
   }
  },
  {
   "cell_type": "code",
   "execution_count": 6,
   "outputs": [
    {
     "data": {
      "text/plain": "<LanguageValue @42da30 _LanguageValue__language='fr' _LanguageValue__value='French lemma' _LanguageValue__removed=False>"
     },
     "execution_count": 6,
     "metadata": {},
     "output_type": "execute_result"
    }
   ],
   "source": [
    "# Lemmas\n",
    "lexeme.lemmas.set(language='en', value='English lemma')\n",
    "lexeme.lemmas.set(language='fr', value='French lemma')"
   ],
   "metadata": {
    "collapsed": false,
    "pycharm": {
     "name": "#%%\n"
    }
   }
  },
  {
   "cell_type": "markdown",
   "source": [
    "## Create and add a claim"
   ],
   "metadata": {
    "collapsed": false,
    "pycharm": {
     "name": "#%% md\n"
    }
   }
  },
  {
   "cell_type": "code",
   "execution_count": 7,
   "outputs": [],
   "source": [
    "# Claims\n",
    "claim_references = References()  # Create a group of references\n",
    "\n",
    "claim_reference1 = Reference()\n",
    "claim_reference1.add(datatypes.String(prop_nr='P828', value='Claim string reference'))\n",
    "\n",
    "claim_reference2 = Reference()\n",
    "claim_reference2.add(datatypes.String(prop_nr='P828', value='Another claim string reference'))\n",
    "\n",
    "# Add each reference to the group of references\n",
    "claim_references.add(claim_reference1)\n",
    "claim_references.add(claim_reference2)\n",
    "\n",
    "claim_qualifiers = Qualifiers()\n",
    "claim_qualifiers.add(datatypes.String(prop_nr='P828', value='Claim qualifier'))\n",
    "\n",
    "claim = datatypes.String(prop_nr='P828', value=\"Create a string claim for claim\", references=claim_references,\n",
    "                         qualifiers=claim_qualifiers)\n"
   ],
   "metadata": {
    "collapsed": false,
    "pycharm": {
     "name": "#%%\n"
    }
   }
  },
  {
   "cell_type": "markdown",
   "source": [
    "Add claim to lexeme"
   ],
   "metadata": {
    "collapsed": false,
    "pycharm": {
     "name": "#%% md\n"
    }
   }
  },
  {
   "cell_type": "code",
   "execution_count": 8,
   "outputs": [
    {
     "data": {
      "text/plain": "<Claims @42d430 _Claims__claims={'P828': [<String @42dfd0 _Claim__mainsnak=<Snak @455130 _Snak__snaktype=<WikibaseSnakType.KNOWN_VALUE: 'value'> _Snak__property_number='P828' _Snak__hash=None _Snak__datavalue={'value': 'Create a string claim for claim', 'type': 'string'} _Snak__datatype='string'> _Claim__type='statement' _Claim__qualifiers=<Qualifiers @42de20 _Qualifiers__qualifiers={'P828': [<Snak @455190 _Snak__snaktype=<WikibaseSnakType.KNOWN_VALUE: 'value'> _Snak__property_number='P828' _Snak__hash=None _Snak__datavalue={'value': 'Claim qualifier', 'type': 'string'} _Snak__datatype='string'>]}> _Claim__qualifiers_order=[] _Claim__id=None _Claim__rank=<WikibaseRank.NORMAL: 'normal'> _Claim__references=<References @44c310 _References__references=[<Reference @44c2b0 _Reference__hash=None _Reference__snaks=<Snaks @44c2e0 snaks={'P828': [<Snak @42dd00 _Snak__snaktype=<WikibaseSnakType.KNOWN_VALUE: 'value'> _Snak__property_number='P828' _Snak__hash=None _Snak__datavalue={'value': 'Claim string reference', 'type': 'string'} _Snak__datatype='string'>]}> _Reference__snaks_order=[]>, <Reference @44cdc0 _Reference__hash=None _Reference__snaks=<Snaks @44cdf0 snaks={'P828': [<Snak @4550d0 _Snak__snaktype=<WikibaseSnakType.KNOWN_VALUE: 'value'> _Snak__property_number='P828' _Snak__hash=None _Snak__datavalue={'value': 'Another claim string reference', 'type': 'string'} _Snak__datatype='string'>]}> _Reference__snaks_order=[]>]> _Claim__removed=False _BaseDataType__value=None>]}>"
     },
     "execution_count": 8,
     "metadata": {},
     "output_type": "execute_result"
    }
   ],
   "source": [
    "lexeme.claims.add(claim)"
   ],
   "metadata": {
    "collapsed": false,
    "pycharm": {
     "name": "#%%\n"
    }
   }
  },
  {
   "cell_type": "markdown",
   "source": [
    "## Create and add a sense"
   ],
   "metadata": {
    "collapsed": false,
    "pycharm": {
     "name": "#%% md\n"
    }
   }
  },
  {
   "cell_type": "code",
   "execution_count": 9,
   "outputs": [
    {
     "data": {
      "text/plain": "<Senses @42d490 senses=[<Sense @459070 id=None glosses=<Glosses @452f70 _LanguageValues__values={'en': <LanguageValue @4590d0 _LanguageValue__language='en' _LanguageValue__value='English gloss' _LanguageValue__removed=False>, 'fr': <LanguageValue @452e80 _LanguageValue__language='fr' _LanguageValue__value='French gloss' _LanguageValue__removed=False>}> claims=<Claims @452ee0 _Claims__claims={'P828': [<String @452d60 _Claim__mainsnak=<Snak @452520 _Snak__snaktype=<WikibaseSnakType.KNOWN_VALUE: 'value'> _Snak__property_number='P828' _Snak__hash=None _Snak__datavalue={'value': 'Create a string claim for sense', 'type': 'string'} _Snak__datatype='string'> _Claim__type='statement' _Claim__qualifiers=<Qualifiers @452ca0 _Qualifiers__qualifiers={'P828': [<Snak @4524f0 _Snak__snaktype=<WikibaseSnakType.KNOWN_VALUE: 'value'> _Snak__property_number='P828' _Snak__hash=None _Snak__datavalue={'value': 'Sense qualifier', 'type': 'string'} _Snak__datatype='string'>]}> _Claim__qualifiers_order=[] _Claim__id=None _Claim__rank=<WikibaseRank.NORMAL: 'normal'> _Claim__references=<References @452f10 _References__references=[<Reference @452df0 _Reference__hash=None _Reference__snaks=<Snaks @452dc0 snaks={'P828': [<Snak @452be0 _Snak__snaktype=<WikibaseSnakType.KNOWN_VALUE: 'value'> _Snak__property_number='P828' _Snak__hash=None _Snak__datavalue={'value': 'Sense string reference', 'type': 'string'} _Snak__datatype='string'>]}> _Reference__snaks_order=[]>, <Reference @452cd0 _Reference__hash=None _Reference__snaks=<Snaks @452bb0 snaks={'P828': [<Snak @4525b0 _Snak__snaktype=<WikibaseSnakType.KNOWN_VALUE: 'value'> _Snak__property_number='P828' _Snak__hash=None _Snak__datavalue={'value': 'Another sense string reference', 'type': 'string'} _Snak__datatype='string'>]}> _Reference__snaks_order=[]>]> _Claim__removed=False _BaseDataType__value=None>]}> removed=False>]>"
     },
     "execution_count": 9,
     "metadata": {},
     "output_type": "execute_result"
    }
   ],
   "source": [
    "# Senses\n",
    "sense = Sense()\n",
    "sense.glosses.set(language='en', value='English gloss')\n",
    "sense.glosses.set(language='fr', value='French gloss')\n",
    "\n",
    "# Senses claims\n",
    "sense_references = References()\n",
    "sense_reference1 = Reference()\n",
    "sense_reference1.add(datatypes.String(prop_nr='P828', value='Sense string reference'))\n",
    "\n",
    "sense_reference2 = Reference()\n",
    "sense_reference2.add(datatypes.String(prop_nr='P828', value='Another sense string reference'))\n",
    "\n",
    "sense_references.add(sense_reference1)\n",
    "sense_references.add(sense_reference2)\n",
    "\n",
    "sense_qualifiers = Qualifiers()\n",
    "sense_qualifiers.add(datatypes.String(prop_nr='P828', value='Sense qualifier'))\n",
    "\n",
    "claim = datatypes.String(prop_nr='P828', value=\"Create a string claim for sense\", references=sense_references,\n",
    "                         qualifiers=sense_qualifiers)\n",
    "\n",
    "sense.claims.add(claim)\n",
    "\n",
    "lexeme.senses.add(sense)"
   ],
   "metadata": {
    "collapsed": false,
    "pycharm": {
     "name": "#%%\n"
    }
   }
  },
  {
   "cell_type": "markdown",
   "source": [
    "## Create and add a form"
   ],
   "metadata": {
    "collapsed": false
   }
  },
  {
   "cell_type": "code",
   "execution_count": 10,
   "outputs": [
    {
     "data": {
      "text/plain": "<Forms @42d070 _Forms__forms={None: <Form @455c70 _Form__id=None _Form__representations=<LanguageValues @455c10 _LanguageValues__values={'en': <LanguageValue @455d90 _LanguageValue__language='en' _LanguageValue__value='English form representation' _LanguageValue__removed=False>, 'fr': <LanguageValue @455b20 _LanguageValue__language='fr' _LanguageValue__value='French form representation' _LanguageValue__removed=False>}> _Form__grammatical_features=['Q146786'] _Form__claims=<Claims @455b80 _Claims__claims={'P828': [<String @455820 _Claim__mainsnak=<Snak @455760 _Snak__snaktype=<WikibaseSnakType.KNOWN_VALUE: 'value'> _Snak__property_number='P828' _Snak__hash=None _Snak__datavalue={'value': 'Create a string claim for form', 'type': 'string'} _Snak__datatype='string'> _Claim__type='statement' _Claim__qualifiers=<Qualifiers @455cd0 _Qualifiers__qualifiers={'P828': [<Snak @4529a0 _Snak__snaktype=<WikibaseSnakType.KNOWN_VALUE: 'value'> _Snak__property_number='P828' _Snak__hash=None _Snak__datavalue={'value': 'Form qualifier', 'type': 'string'} _Snak__datatype='string'>]}> _Claim__qualifiers_order=[] _Claim__id=None _Claim__rank=<WikibaseRank.NORMAL: 'normal'> _Claim__references=<References @455a90 _References__references=[<Reference @455ca0 _Reference__hash=None _Reference__snaks=<Snaks @455ac0 snaks={'P828': [<Snak @4557c0 _Snak__snaktype=<WikibaseSnakType.KNOWN_VALUE: 'value'> _Snak__property_number='P828' _Snak__hash=None _Snak__datavalue={'value': 'Form string reference', 'type': 'string'} _Snak__datatype='string'>]}> _Reference__snaks_order=[]>, <Reference @4559a0 _Reference__hash=None _Reference__snaks=<Snaks @455790 snaks={'P828': [<Snak @452c40 _Snak__snaktype=<WikibaseSnakType.KNOWN_VALUE: 'value'> _Snak__property_number='P828' _Snak__hash=None _Snak__datavalue={'value': 'Another form string reference', 'type': 'string'} _Snak__datatype='string'>]}> _Reference__snaks_order=[]>]> _Claim__removed=False _BaseDataType__value=None>]}>>}>"
     },
     "execution_count": 10,
     "metadata": {},
     "output_type": "execute_result"
    }
   ],
   "source": [
    "# Forms\n",
    "form = Form()\n",
    "\n",
    "# Form representations\n",
    "form.representations.set(language='en', value='English form representation')\n",
    "form.representations.set(language='fr', value='French form representation')\n",
    "\n",
    "# Add a list of grammatical features to the form\n",
    "form.grammatical_features = ['Q146786']\n",
    "\n",
    "# Form claims\n",
    "form_references = References()  # Create a group of references\n",
    "form_reference1 = Reference()\n",
    "form_reference1.add(datatypes.String(prop_nr='P828', value='Form string reference'))\n",
    "\n",
    "form_reference2 = Reference()\n",
    "form_reference2.add(datatypes.String(prop_nr='P828', value='Another form string reference'))\n",
    "\n",
    "form_references.add(form_reference1)\n",
    "form_references.add(form_reference2)\n",
    "\n",
    "form_qualifiers = Qualifiers()\n",
    "form_qualifiers.add(datatypes.String(prop_nr='P828', value='Form qualifier'))\n",
    "\n",
    "claim = datatypes.String(prop_nr='P828', value=\"Create a string claim for form\", references=form_references,\n",
    "                         qualifiers=form_qualifiers)\n",
    "\n",
    "form.claims.add(claim)\n",
    "\n",
    "lexeme.forms.add(form)"
   ],
   "metadata": {
    "collapsed": false,
    "pycharm": {
     "name": "#%%\n"
    }
   }
  },
  {
   "cell_type": "markdown",
   "source": [
    "## Write the lexeme to the Wikibase"
   ],
   "metadata": {
    "collapsed": false,
    "pycharm": {
     "name": "#%% md\n"
    }
   }
  },
  {
   "cell_type": "code",
   "execution_count": 11,
   "outputs": [
    {
     "data": {
      "text/plain": "<Lexeme @4007f0 api=<wikibaseintegrator.wikibaseintegrator.WikibaseIntegrator object at 0x00000292A34005E0>\n\t lastrevid=551031\n\t type='lexeme'\n\t id='L1660'\n\t claims=<Claims @400ac0 _Claims__claims={'P828': [<String @44ca90 _Claim__mainsnak=<Snak @44c7c0 _Snak__snaktype=<WikibaseSnakType.KNOWN_VALUE: 'value'> _Snak__property_number='P828' _Snak__hash='dc920cec98f0e830c30011cd496108be8d50afab' _Snak__datavalue={'value': 'Create a string claim for claim', 'type': 'string'} _Snak__datatype='string'> _Claim__type='statement' _Claim__qualifiers=<Qualifiers @44cc70 _Qualifiers__qualifiers={'P828': [<Snak @44c160 _Snak__snaktype=<WikibaseSnakType.KNOWN_VALUE: 'value'> _Snak__property_number='P828' _Snak__hash='351f871bfe166697d3270cc0df7df8d09603efb0' _Snak__datavalue={'value': 'Claim qualifier', 'type': 'string'} _Snak__datatype='string'>]}> _Claim__qualifiers_order=['P828'] _Claim__id='L1660$D3E30A15-AC21-4E07-B953-B13D6025A861' _Claim__rank=<WikibaseRank.NORMAL: 'normal'> _Claim__references=<References @44cac0 _References__references=[<Reference @44c760 _Reference__hash='ef1ebde859c902590dfbe5a3bd7a2f7af01f4a4f' _Reference__snaks=<Snaks @44caf0 snaks={'P828': [<Snak @44c1f0 _Snak__snaktype=<WikibaseSnakType.KNOWN_VALUE: 'value'> _Snak__property_number='P828' _Snak__hash='bae62d7b26cff18d5a9d277e04475fcb6bd9bcfb' _Snak__datavalue={'value': 'Claim string reference', 'type': 'string'} _Snak__datatype='string'>]}> _Reference__snaks_order=['P828']>, <Reference @44ccd0 _Reference__hash='77df7e5db38ec15b7abac0755c4dc8e781ba9369' _Reference__snaks=<Snaks @44ca60 snaks={'P828': [<Snak @44c8e0 _Snak__snaktype=<WikibaseSnakType.KNOWN_VALUE: 'value'> _Snak__property_number='P828' _Snak__hash='dcd0b956c352f2036bb7da153c4db941e74a803f' _Snak__datavalue={'value': 'Another claim string reference', 'type': 'string'} _Snak__datatype='string'>]}> _Reference__snaks_order=['P828']>]> _Claim__removed=False _BaseDataType__value=None>]}>\n\t json={'type': 'lexeme', 'id': 'L1660', 'lemmas': {'en': {'language': 'en', 'value': 'English lemma'}, 'fr': {'language': 'fr', 'value': 'French lemma'}}, 'lexicalCategory': 'Q1244', 'language': 'Q1860', 'claims': {'P828': [{'mainsnak': {'snaktype': 'value', 'property': 'P828', 'hash': 'dc920cec98f0e830c30011cd496108be8d50afab', 'datavalue': {'value': 'Create a string claim for claim', 'type': 'string'}, 'datatype': 'string'}, 'type': 'statement', 'qualifiers': {'P828': [{'snaktype': 'value', 'property': 'P828', 'hash': '351f871bfe166697d3270cc0df7df8d09603efb0', 'datavalue': {'value': 'Claim qualifier', 'type': 'string'}, 'datatype': 'string'}]}, 'qualifiers-order': ['P828'], 'id': 'L1660$D3E30A15-AC21-4E07-B953-B13D6025A861', 'rank': 'normal', 'references': [{'hash': 'ef1ebde859c902590dfbe5a3bd7a2f7af01f4a4f', 'snaks': {'P828': [{'snaktype': 'value', 'property': 'P828', 'hash': 'bae62d7b26cff18d5a9d277e04475fcb6bd9bcfb', 'datavalue': {'value': 'Claim string reference', 'type': 'string'}, 'datatype': 'string'}]}, 'snaks-order': ['P828']}, {'hash': '77df7e5db38ec15b7abac0755c4dc8e781ba9369', 'snaks': {'P828': [{'snaktype': 'value', 'property': 'P828', 'hash': 'dcd0b956c352f2036bb7da153c4db941e74a803f', 'datavalue': {'value': 'Another claim string reference', 'type': 'string'}, 'datatype': 'string'}]}, 'snaks-order': ['P828']}]}]}, 'forms': [{'id': 'L1660-F1', 'representations': {'en': {'language': 'en', 'value': 'English form representation'}, 'fr': {'language': 'fr', 'value': 'French form representation'}}, 'grammaticalFeatures': ['Q146786'], 'claims': {'P828': [{'mainsnak': {'snaktype': 'value', 'property': 'P828', 'hash': '288a8a8f1e12b9bacb056319c4ed0f3e6bafdd00', 'datavalue': {'value': 'Create a string claim for form', 'type': 'string'}, 'datatype': 'string'}, 'type': 'statement', 'qualifiers': {'P828': [{'snaktype': 'value', 'property': 'P828', 'hash': '6c157568b379f4c2722f30a9fee95d3c5f99dfe9', 'datavalue': {'value': 'Form qualifier', 'type': 'string'}, 'datatype': 'string'}]}, 'qualifiers-order': ['P828'], 'id': 'L1660-F1$42E574AD-9956-4427-A89D-68A7127E2410', 'rank': 'normal', 'references': [{'hash': '32f599c26d4251d72272b3a65294d6d5517d2445', 'snaks': {'P828': [{'snaktype': 'value', 'property': 'P828', 'hash': '1cbb07e7eba6906acf68f427a3f87fefc0a53283', 'datavalue': {'value': 'Form string reference', 'type': 'string'}, 'datatype': 'string'}]}, 'snaks-order': ['P828']}, {'hash': 'a0f20d048c3df03c1bfb25c63869ba37b32c9e01', 'snaks': {'P828': [{'snaktype': 'value', 'property': 'P828', 'hash': '67bef049d400b9d7e2e2695320d85012c9122df5', 'datavalue': {'value': 'Another form string reference', 'type': 'string'}, 'datatype': 'string'}]}, 'snaks-order': ['P828']}]}]}}], 'senses': [{'id': 'L1660-S1', 'glosses': {'en': {'language': 'en', 'value': 'English gloss'}, 'fr': {'language': 'fr', 'value': 'French gloss'}}, 'claims': {'P828': [{'mainsnak': {'snaktype': 'value', 'property': 'P828', 'hash': '9781442191b38e26c55b1dfde6f6203c9127c4f3', 'datavalue': {'value': 'Create a string claim for sense', 'type': 'string'}, 'datatype': 'string'}, 'type': 'statement', 'qualifiers': {'P828': [{'snaktype': 'value', 'property': 'P828', 'hash': 'c1afe7627d9711627e1e48b8e015ade998d6d434', 'datavalue': {'value': 'Sense qualifier', 'type': 'string'}, 'datatype': 'string'}]}, 'qualifiers-order': ['P828'], 'id': 'L1660-S1$DAEABAC7-3780-4E51-AED7-3FAE7230975E', 'rank': 'normal', 'references': [{'hash': '87e05c6c4fc2d74529d7801340c18955516b6d96', 'snaks': {'P828': [{'snaktype': 'value', 'property': 'P828', 'hash': '617bd3516c2003df28ab90fd6ee0bd8237f1f8e6', 'datavalue': {'value': 'Sense string reference', 'type': 'string'}, 'datatype': 'string'}]}, 'snaks-order': ['P828']}, {'hash': '989b65b201e4b2fbd9d5c2c8d7bd7b7e9d2ce5c7', 'snaks': {'P828': [{'snaktype': 'value', 'property': 'P828', 'hash': '1afe472d8815b3cbf50d2e5b1c497456a82f055f', 'datavalue': {'value': 'Another sense string reference', 'type': 'string'}, 'datatype': 'string'}]}, 'snaks-order': ['P828']}]}]}}], 'lastrevid': 551031}\n\t fast_run_container=None\n\t debug=False\n\t lemmas=<Lemmas @44cc40 _LanguageValues__values={'en': <LanguageValue @44c700 _LanguageValue__language='en' _LanguageValue__value='English lemma' _LanguageValue__removed=False>, 'fr': <LanguageValue @44ca00 _LanguageValue__language='fr' _LanguageValue__value='French lemma' _LanguageValue__removed=False>}>\n\t lexical_category='Q1244'\n\t language='Q1860'\n\t forms=<Forms @44c550 _Forms__forms={'L1660-F1': <Form @42dac0 _Form__id='L1660-F1' _Form__representations=<LanguageValues @42d370 _LanguageValues__values={'en': <LanguageValue @42dc10 _LanguageValue__language='en' _LanguageValue__value='English form representation' _LanguageValue__removed=False>, 'fr': <LanguageValue @42de80 _LanguageValue__language='fr' _LanguageValue__value='French form representation' _LanguageValue__removed=False>}> _Form__grammatical_features=['Q146786'] _Form__claims=<Claims @42da00 _Claims__claims={'P828': [<String @42daf0 _Claim__mainsnak=<Snak @455730 _Snak__snaktype=<WikibaseSnakType.KNOWN_VALUE: 'value'> _Snak__property_number='P828' _Snak__hash='288a8a8f1e12b9bacb056319c4ed0f3e6bafdd00' _Snak__datavalue={'value': 'Create a string claim for form', 'type': 'string'} _Snak__datatype='string'> _Claim__type='statement' _Claim__qualifiers=<Qualifiers @42d9a0 _Qualifiers__qualifiers={'P828': [<Snak @455a30 _Snak__snaktype=<WikibaseSnakType.KNOWN_VALUE: 'value'> _Snak__property_number='P828' _Snak__hash='6c157568b379f4c2722f30a9fee95d3c5f99dfe9' _Snak__datavalue={'value': 'Form qualifier', 'type': 'string'} _Snak__datatype='string'>]}> _Claim__qualifiers_order=['P828'] _Claim__id='L1660-F1$42E574AD-9956-4427-A89D-68A7127E2410' _Claim__rank=<WikibaseRank.NORMAL: 'normal'> _Claim__references=<References @42ddc0 _References__references=[<Reference @455610 _Reference__hash='32f599c26d4251d72272b3a65294d6d5517d2445' _Reference__snaks=<Snaks @455880 snaks={'P828': [<Snak @455f10 _Snak__snaktype=<WikibaseSnakType.KNOWN_VALUE: 'value'> _Snak__property_number='P828' _Snak__hash='1cbb07e7eba6906acf68f427a3f87fefc0a53283' _Snak__datavalue={'value': 'Form string reference', 'type': 'string'} _Snak__datatype='string'>]}> _Reference__snaks_order=['P828']>, <Reference @455670 _Reference__hash='a0f20d048c3df03c1bfb25c63869ba37b32c9e01' _Reference__snaks=<Snaks @4551f0 snaks={'P828': [<Snak @455eb0 _Snak__snaktype=<WikibaseSnakType.KNOWN_VALUE: 'value'> _Snak__property_number='P828' _Snak__hash='67bef049d400b9d7e2e2695320d85012c9122df5' _Snak__datavalue={'value': 'Another form string reference', 'type': 'string'} _Snak__datatype='string'>]}> _Reference__snaks_order=['P828']>]> _Claim__removed=False _BaseDataType__value=None>]}>>}>\n\t senses=<Senses @42d3d0 senses=[<Sense @455550 id='L1660-S1' glosses=<Glosses @455640 _LanguageValues__values={'en': <LanguageValue @455850 _LanguageValue__language='en' _LanguageValue__value='English gloss' _LanguageValue__removed=False>, 'fr': <LanguageValue @455fa0 _LanguageValue__language='fr' _LanguageValue__value='French gloss' _LanguageValue__removed=False>}> claims=<Claims @4555b0 _Claims__claims={'P828': [<String @4553d0 _Claim__mainsnak=<Snak @4552b0 _Snak__snaktype=<WikibaseSnakType.KNOWN_VALUE: 'value'> _Snak__property_number='P828' _Snak__hash='9781442191b38e26c55b1dfde6f6203c9127c4f3' _Snak__datavalue={'value': 'Create a string claim for sense', 'type': 'string'} _Snak__datatype='string'> _Claim__type='statement' _Claim__qualifiers=<Qualifiers @455ee0 _Qualifiers__qualifiers={'P828': [<Snak @4552e0 _Snak__snaktype=<WikibaseSnakType.KNOWN_VALUE: 'value'> _Snak__property_number='P828' _Snak__hash='c1afe7627d9711627e1e48b8e015ade998d6d434' _Snak__datavalue={'value': 'Sense qualifier', 'type': 'string'} _Snak__datatype='string'>]}> _Claim__qualifiers_order=['P828'] _Claim__id='L1660-S1$DAEABAC7-3780-4E51-AED7-3FAE7230975E' _Claim__rank=<WikibaseRank.NORMAL: 'normal'> _Claim__references=<References @455e80 _References__references=[<Reference @455700 _Reference__hash='87e05c6c4fc2d74529d7801340c18955516b6d96' _Reference__snaks=<Snaks @4554f0 snaks={'P828': [<Snak @4558b0 _Snak__snaktype=<WikibaseSnakType.KNOWN_VALUE: 'value'> _Snak__property_number='P828' _Snak__hash='617bd3516c2003df28ab90fd6ee0bd8237f1f8e6' _Snak__datavalue={'value': 'Sense string reference', 'type': 'string'} _Snak__datatype='string'>]}> _Reference__snaks_order=['P828']>, <Reference @4556d0 _Reference__hash='989b65b201e4b2fbd9d5c2c8d7bd7b7e9d2ce5c7' _Reference__snaks=<Snaks @452400 snaks={'P828': [<Snak @452a30 _Snak__snaktype=<WikibaseSnakType.KNOWN_VALUE: 'value'> _Snak__property_number='P828' _Snak__hash='1afe472d8815b3cbf50d2e5b1c497456a82f055f' _Snak__datavalue={'value': 'Another sense string reference', 'type': 'string'} _Snak__datatype='string'>]}> _Reference__snaks_order=['P828']>]> _Claim__removed=False _BaseDataType__value=None>]}> removed=False>]>>"
     },
     "execution_count": 11,
     "metadata": {},
     "output_type": "execute_result"
    }
   ],
   "source": [
    "lexeme.write()"
   ],
   "metadata": {
    "collapsed": false,
    "pycharm": {
     "name": "#%%\n"
    }
   }
  }
 ],
 "metadata": {
  "kernelspec": {
   "display_name": "Python 3",
   "language": "python",
   "name": "python3"
  },
  "language_info": {
   "codemirror_mode": {
    "name": "ipython",
    "version": 2
   },
   "file_extension": ".py",
   "mimetype": "text/x-python",
   "name": "python",
   "nbconvert_exporter": "python",
   "pygments_lexer": "ipython2",
   "version": "2.7.6"
  }
 },
 "nbformat": 4,
 "nbformat_minor": 0
}
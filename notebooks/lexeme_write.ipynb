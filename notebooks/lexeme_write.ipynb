{
 "cells": [
  {
   "cell_type": "code",
   "execution_count": 1,
   "metadata": {
    "collapsed": true
   },
   "outputs": [],
   "source": [
    "from wikibaseintegrator import WikibaseIntegrator, wbi_login, datatypes\n",
    "from wikibaseintegrator.models import Reference, References, Form, Sense\n",
    "from wikibaseintegrator.models.qualifiers import Qualifiers"
   ]
  },
  {
   "cell_type": "code",
   "execution_count": 2,
   "outputs": [],
   "source": [
    "WDUSER = ''\n",
    "WDPASS = ''"
   ],
   "metadata": {
    "collapsed": false,
    "pycharm": {
     "name": "#%%\n"
    }
   }
  },
  {
   "cell_type": "code",
   "execution_count": 3,
   "outputs": [],
   "source": [
    "login = wbi_login.Login(user=WDUSER, pwd=WDPASS, mediawiki_api_url='https://test.wikidata.org/w/api.php')\n",
    "wbi = WikibaseIntegrator(mediawiki_api_url='https://test.wikidata.org/w/api.php', login=login)"
   ],
   "metadata": {
    "collapsed": false,
    "pycharm": {
     "name": "#%%\n"
    }
   }
  },
  {
   "cell_type": "markdown",
   "source": [
    "# Create a new verb lexeme"
   ],
   "metadata": {
    "collapsed": false,
    "pycharm": {
     "name": "#%% md\n"
    }
   }
  },
  {
   "cell_type": "code",
   "execution_count": 4,
   "outputs": [],
   "source": [
    "lexeme = wbi.lexeme.new(lexical_category='Q1244')"
   ],
   "metadata": {
    "collapsed": false,
    "pycharm": {
     "name": "#%%\n"
    }
   }
  },
  {
   "cell_type": "markdown",
   "source": [
    "Set english and French lemmas"
   ],
   "metadata": {
    "collapsed": false,
    "pycharm": {
     "name": "#%% md\n"
    }
   }
  },
  {
   "cell_type": "code",
   "execution_count": 5,
   "outputs": [
    {
     "data": {
      "text/plain": "<LanguageValue @5dfa60 _LanguageValue__language='fr' _LanguageValue__value='French lemma' _LanguageValue__removed=False>"
     },
     "execution_count": 5,
     "metadata": {},
     "output_type": "execute_result"
    }
   ],
   "source": [
    "# Lemmas\n",
    "lexeme.lemmas.set(language='en', value='English lemma')\n",
    "lexeme.lemmas.set(language='fr', value='French lemma')"
   ],
   "metadata": {
    "collapsed": false,
    "pycharm": {
     "name": "#%%\n"
    }
   }
  },
  {
   "cell_type": "markdown",
   "source": [
    "## Create and add a claim"
   ],
   "metadata": {
    "collapsed": false,
    "pycharm": {
     "name": "#%% md\n"
    }
   }
  },
  {
   "cell_type": "code",
   "execution_count": 6,
   "outputs": [],
   "source": [
    "# Claims\n",
    "claim_references = References()  # Create a group of references\n",
    "\n",
    "claim_reference1 = Reference()\n",
    "claim_reference1.add(datatypes.String(prop_nr='P828', value='Claim string reference'))\n",
    "\n",
    "claim_reference2 = Reference()\n",
    "claim_reference2.add(datatypes.String(prop_nr='P828', value='Another claim string reference'))\n",
    "\n",
    "# Add each reference to the group of references\n",
    "claim_references.add(claim_reference1)\n",
    "claim_references.add(claim_reference2)\n",
    "\n",
    "claim_qualifiers = Qualifiers()\n",
    "claim_qualifiers.add(datatypes.String(prop_nr='P828', value='Claim qualifier'))\n",
    "\n",
    "claim = datatypes.String(prop_nr='P828', value=\"Create a string claim for claim\", references=claim_references,\n",
    "                         qualifiers=claim_qualifiers)\n"
   ],
   "metadata": {
    "collapsed": false,
    "pycharm": {
     "name": "#%%\n"
    }
   }
  },
  {
   "cell_type": "markdown",
   "source": [
    "Add claim to lexeme"
   ],
   "metadata": {
    "collapsed": false,
    "pycharm": {
     "name": "#%% md\n"
    }
   }
  },
  {
   "cell_type": "code",
   "execution_count": 7,
   "outputs": [
    {
     "data": {
      "text/plain": "<Claims @5df0d0 _Claims__claims={'P828': [<String @5dfc70 _Claim__mainsnak=<Snak @5df160 _Snak__snaktype='value' _Snak__property_number='P828' _Snak__hash=None _Snak__datavalue={'value': 'Create a string claim for claim', 'type': 'string'} _Snak__datatype='string'> _Claim__type='statement' _Claim__qualifiers=<wikibaseintegrator.models.qualifiers.Qualifiers object at 0x00000150995DFAF0> _Claim__qualifiers_order=[] _Claim__id=None _Claim__rank='normal' _Claim__references=<References @5fd8e0 references=[<Reference @5fd880 _Reference__hash=None _Reference__snaks=<Snaks @5fd8b0 snaks={'P828': [<Snak @5df910 _Snak__snaktype='value' _Snak__property_number='P828' _Snak__hash=None _Snak__datavalue={'value': 'Claim string reference', 'type': 'string'} _Snak__datatype='string'>]}> _Reference__snaks_order=[]>, <Reference @5fda00 _Reference__hash=None _Reference__snaks=<Snaks @5fda30 snaks={'P828': [<Snak @5dfb20 _Snak__snaktype='value' _Snak__property_number='P828' _Snak__hash=None _Snak__datavalue={'value': 'Another claim string reference', 'type': 'string'} _Snak__datatype='string'>]}> _Reference__snaks_order=[]>]> _Claim__removed=False value='Create a string claim for claim'>]}>"
     },
     "execution_count": 7,
     "metadata": {},
     "output_type": "execute_result"
    }
   ],
   "source": [
    "lexeme.claims.add(claim)"
   ],
   "metadata": {
    "collapsed": false,
    "pycharm": {
     "name": "#%%\n"
    }
   }
  },
  {
   "cell_type": "markdown",
   "source": [
    "## Create and add a sense"
   ],
   "metadata": {
    "collapsed": false,
    "pycharm": {
     "name": "#%% md\n"
    }
   }
  },
  {
   "cell_type": "code",
   "execution_count": 8,
   "outputs": [
    {
     "data": {
      "text/plain": "<Senses @5df730 senses=[<Sense @60c250 id=None glosses=<Glosses @60c2b0 _LanguageValues__values={'en': <LanguageValue @60c1f0 _LanguageValue__language='en' _LanguageValue__value='English gloss' _LanguageValue__removed=False>, 'fr': <LanguageValue @60cfa0 _LanguageValue__language='fr' _LanguageValue__value='French gloss' _LanguageValue__removed=False>}> claims=<Claims @60cf40 _Claims__claims={'P828': [<String @60a280 _Claim__mainsnak=<Snak @60a490 _Snak__snaktype='value' _Snak__property_number='P828' _Snak__hash=None _Snak__datavalue={'value': 'Create a string claim for sense', 'type': 'string'} _Snak__datatype='string'> _Claim__type='statement' _Claim__qualifiers=<wikibaseintegrator.models.qualifiers.Qualifiers object at 0x000001509960A340> _Claim__qualifiers_order=[] _Claim__id=None _Claim__rank='normal' _Claim__references=<References @60c220 references=[<Reference @60cee0 _Reference__hash=None _Reference__snaks=<Snaks @60a2b0 snaks={'P828': [<Snak @60a640 _Snak__snaktype='value' _Snak__property_number='P828' _Snak__hash=None _Snak__datavalue={'value': 'Sense string reference', 'type': 'string'} _Snak__datatype='string'>]}> _Reference__snaks_order=[]>, <Reference @60a310 _Reference__hash=None _Reference__snaks=<Snaks @60a670 snaks={'P828': [<Snak @60a520 _Snak__snaktype='value' _Snak__property_number='P828' _Snak__hash=None _Snak__datavalue={'value': 'Another sense string reference', 'type': 'string'} _Snak__datatype='string'>]}> _Reference__snaks_order=[]>]> _Claim__removed=False value='Create a string claim for sense'>]}> removed=False>]>"
     },
     "execution_count": 8,
     "metadata": {},
     "output_type": "execute_result"
    }
   ],
   "source": [
    "# Senses\n",
    "sense = Sense()\n",
    "sense.glosses.set(language='en', value='English gloss')\n",
    "sense.glosses.set(language='fr', value='French gloss')\n",
    "\n",
    "# Senses claims\n",
    "sense_references = References()\n",
    "sense_reference1 = Reference()\n",
    "sense_reference1.add(datatypes.String(prop_nr='P828', value='Sense string reference'))\n",
    "\n",
    "sense_reference2 = Reference()\n",
    "sense_reference2.add(datatypes.String(prop_nr='P828', value='Another sense string reference'))\n",
    "\n",
    "sense_references.add(sense_reference1)\n",
    "sense_references.add(sense_reference2)\n",
    "\n",
    "sense_qualifiers = Qualifiers()\n",
    "sense_qualifiers.add(datatypes.String(prop_nr='P828', value='Sense qualifier'))\n",
    "\n",
    "claim = datatypes.String(prop_nr='P828', value=\"Create a string claim for sense\", references=sense_references,\n",
    "                         qualifiers=sense_qualifiers)\n",
    "\n",
    "sense.claims.add(claim)\n",
    "\n",
    "lexeme.senses.add(sense)"
   ],
   "metadata": {
    "collapsed": false,
    "pycharm": {
     "name": "#%%\n"
    }
   }
  },
  {
   "cell_type": "markdown",
   "source": [
    "## Create and add a form"
   ],
   "metadata": {
    "collapsed": false
   }
  },
  {
   "cell_type": "code",
   "execution_count": 9,
   "outputs": [
    {
     "data": {
      "text/plain": "<Forms @5df550 _Forms__forms={None: <Form @60a580 _Form__id=None _Form__representations=<LanguageValues @60a820 _LanguageValues__values={'en': <LanguageValue @60a9a0 _LanguageValue__language='en' _LanguageValue__value='English form representation' _LanguageValue__removed=False>, 'fr': <LanguageValue @60a790 _LanguageValue__language='fr' _LanguageValue__value='French form representation' _LanguageValue__removed=False>}> _Form__grammatical_features=['Q146786'] _Form__claims=<Claims @60a730 _Claims__claims={'P828': [<String @5fd130 _Claim__mainsnak=<Snak @5fd520 _Snak__snaktype='value' _Snak__property_number='P828' _Snak__hash=None _Snak__datavalue={'value': 'Create a string claim for form', 'type': 'string'} _Snak__datatype='string'> _Claim__type='statement' _Claim__qualifiers=<wikibaseintegrator.models.qualifiers.Qualifiers object at 0x00000150995FD040> _Claim__qualifiers_order=[] _Claim__id=None _Claim__rank='normal' _Claim__references=<References @60a550 references=[<Reference @60ab50 _Reference__hash=None _Reference__snaks=<Snaks @5fd460 snaks={'P828': [<Snak @5fde20 _Snak__snaktype='value' _Snak__property_number='P828' _Snak__hash=None _Snak__datavalue={'value': 'Form string reference', 'type': 'string'} _Snak__datatype='string'>]}> _Reference__snaks_order=[]>, <Reference @5fd1c0 _Reference__hash=None _Reference__snaks=<Snaks @5fd0d0 snaks={'P828': [<Snak @5fd4c0 _Snak__snaktype='value' _Snak__property_number='P828' _Snak__hash=None _Snak__datavalue={'value': 'Another form string reference', 'type': 'string'} _Snak__datatype='string'>]}> _Reference__snaks_order=[]>]> _Claim__removed=False value='Create a string claim for form'>]}>>}>"
     },
     "execution_count": 9,
     "metadata": {},
     "output_type": "execute_result"
    }
   ],
   "source": [
    "# Forms\n",
    "form = Form()\n",
    "\n",
    "# Form representations\n",
    "form.representations.set(language='en', value='English form representation')\n",
    "form.representations.set(language='fr', value='French form representation')\n",
    "\n",
    "# Add a list of grammatical features to the form\n",
    "form.grammatical_features = ['Q146786']\n",
    "\n",
    "# Form claims\n",
    "form_references = References()  # Create a group of references\n",
    "form_reference1 = Reference()\n",
    "form_reference1.add(datatypes.String(prop_nr='P828', value='Form string reference'))\n",
    "\n",
    "form_reference2 = Reference()\n",
    "form_reference2.add(datatypes.String(prop_nr='P828', value='Another form string reference'))\n",
    "\n",
    "form_references.add(form_reference1)\n",
    "form_references.add(form_reference2)\n",
    "\n",
    "form_qualifiers = Qualifiers()\n",
    "form_qualifiers.add(datatypes.String(prop_nr='P828', value='Form qualifier'))\n",
    "\n",
    "claim = datatypes.String(prop_nr='P828', value=\"Create a string claim for form\", references=form_references,\n",
    "                         qualifiers=form_qualifiers)\n",
    "\n",
    "form.claims.add(claim)\n",
    "\n",
    "lexeme.forms.add(form)"
   ],
   "metadata": {
    "collapsed": false,
    "pycharm": {
     "name": "#%%\n"
    }
   }
  },
  {
   "cell_type": "markdown",
   "source": [
    "## Write the lexeme to the Wikibase"
   ],
   "metadata": {
    "collapsed": false,
    "pycharm": {
     "name": "#%% md\n"
    }
   }
  },
  {
   "cell_type": "code",
   "execution_count": 10,
   "outputs": [
    {
     "data": {
      "text/plain": "<Lexeme @5df6d0 api=<wikibaseintegrator.wikibaseintegrator.WikibaseIntegrator object at 0x00000150995BC430>\n\t lastrevid=543124\n\t type='lexeme'\n\t id='L1576'\n\t claims=<Claims @edf100 _Claims__claims={'P828': [<Claim @60aca0 _Claim__mainsnak=<Snak @60aeb0 _Snak__snaktype='value' _Snak__property_number='P828' _Snak__hash='dc920cec98f0e830c30011cd496108be8d50afab' _Snak__datavalue={'value': 'Create a string claim for claim', 'type': 'string'} _Snak__datatype='string'> _Claim__type='statement' _Claim__qualifiers=<Snaks @60adc0 snaks={'P828': [<Snak @60afd0 _Snak__snaktype='value' _Snak__property_number='P828' _Snak__hash='351f871bfe166697d3270cc0df7df8d09603efb0' _Snak__datavalue={'value': 'Claim qualifier', 'type': 'string'} _Snak__datatype='string'>]}> _Claim__qualifiers_order=['P828'] _Claim__id='L1576$26CE98EE-445A-49D2-A325-165154CC9E95' _Claim__rank='normal' _Claim__references=<References @60a160 references=[<Reference @60ad00 _Reference__hash='ef1ebde859c902590dfbe5a3bd7a2f7af01f4a4f' _Reference__snaks=<Snaks @60a910 snaks={'P828': [<Snak @60ad90 _Snak__snaktype='value' _Snak__property_number='P828' _Snak__hash='bae62d7b26cff18d5a9d277e04475fcb6bd9bcfb' _Snak__datavalue={'value': 'Claim string reference', 'type': 'string'} _Snak__datatype='string'>]}> _Reference__snaks_order=['P828']>, <Reference @60ad60 _Reference__hash='77df7e5db38ec15b7abac0755c4dc8e781ba9369' _Reference__snaks=<Snaks @60ac40 snaks={'P828': [<Snak @60aa30 _Snak__snaktype='value' _Snak__property_number='P828' _Snak__hash='dcd0b956c352f2036bb7da153c4db941e74a803f' _Snak__datavalue={'value': 'Another claim string reference', 'type': 'string'} _Snak__datatype='string'>]}> _Reference__snaks_order=['P828']>]> _Claim__removed=False>]}>\n\t json={'type': 'lexeme', 'id': 'L1576', 'lemmas': {'en': {'language': 'en', 'value': 'English lemma'}, 'fr': {'language': 'fr', 'value': 'French lemma'}}, 'lexicalCategory': 'Q1244', 'language': 'Q1860', 'claims': {'P828': [{'mainsnak': {'snaktype': 'value', 'property': 'P828', 'hash': 'dc920cec98f0e830c30011cd496108be8d50afab', 'datavalue': {'value': 'Create a string claim for claim', 'type': 'string'}, 'datatype': 'string'}, 'type': 'statement', 'qualifiers': {'P828': [{'snaktype': 'value', 'property': 'P828', 'hash': '351f871bfe166697d3270cc0df7df8d09603efb0', 'datavalue': {'value': 'Claim qualifier', 'type': 'string'}, 'datatype': 'string'}]}, 'qualifiers-order': ['P828'], 'id': 'L1576$26CE98EE-445A-49D2-A325-165154CC9E95', 'rank': 'normal', 'references': [{'hash': 'ef1ebde859c902590dfbe5a3bd7a2f7af01f4a4f', 'snaks': {'P828': [{'snaktype': 'value', 'property': 'P828', 'hash': 'bae62d7b26cff18d5a9d277e04475fcb6bd9bcfb', 'datavalue': {'value': 'Claim string reference', 'type': 'string'}, 'datatype': 'string'}]}, 'snaks-order': ['P828']}, {'hash': '77df7e5db38ec15b7abac0755c4dc8e781ba9369', 'snaks': {'P828': [{'snaktype': 'value', 'property': 'P828', 'hash': 'dcd0b956c352f2036bb7da153c4db941e74a803f', 'datavalue': {'value': 'Another claim string reference', 'type': 'string'}, 'datatype': 'string'}]}, 'snaks-order': ['P828']}]}]}, 'forms': [{'id': 'L1576-F1', 'representations': {'en': {'language': 'en', 'value': 'English form representation'}, 'fr': {'language': 'fr', 'value': 'French form representation'}}, 'grammaticalFeatures': ['Q146786'], 'claims': {'P828': [{'mainsnak': {'snaktype': 'value', 'property': 'P828', 'hash': '288a8a8f1e12b9bacb056319c4ed0f3e6bafdd00', 'datavalue': {'value': 'Create a string claim for form', 'type': 'string'}, 'datatype': 'string'}, 'type': 'statement', 'qualifiers': {'P828': [{'snaktype': 'value', 'property': 'P828', 'hash': '6c157568b379f4c2722f30a9fee95d3c5f99dfe9', 'datavalue': {'value': 'Form qualifier', 'type': 'string'}, 'datatype': 'string'}]}, 'qualifiers-order': ['P828'], 'id': 'L1576-F1$683B7147-12DE-4C97-A13B-23725DB6D3B8', 'rank': 'normal', 'references': [{'hash': '32f599c26d4251d72272b3a65294d6d5517d2445', 'snaks': {'P828': [{'snaktype': 'value', 'property': 'P828', 'hash': '1cbb07e7eba6906acf68f427a3f87fefc0a53283', 'datavalue': {'value': 'Form string reference', 'type': 'string'}, 'datatype': 'string'}]}, 'snaks-order': ['P828']}, {'hash': 'a0f20d048c3df03c1bfb25c63869ba37b32c9e01', 'snaks': {'P828': [{'snaktype': 'value', 'property': 'P828', 'hash': '67bef049d400b9d7e2e2695320d85012c9122df5', 'datavalue': {'value': 'Another form string reference', 'type': 'string'}, 'datatype': 'string'}]}, 'snaks-order': ['P828']}]}]}}], 'senses': [{'id': 'L1576-S1', 'glosses': {'en': {'language': 'en', 'value': 'English gloss'}, 'fr': {'language': 'fr', 'value': 'French gloss'}}, 'claims': {'P828': [{'mainsnak': {'snaktype': 'value', 'property': 'P828', 'hash': '9781442191b38e26c55b1dfde6f6203c9127c4f3', 'datavalue': {'value': 'Create a string claim for sense', 'type': 'string'}, 'datatype': 'string'}, 'type': 'statement', 'qualifiers': {'P828': [{'snaktype': 'value', 'property': 'P828', 'hash': 'c1afe7627d9711627e1e48b8e015ade998d6d434', 'datavalue': {'value': 'Sense qualifier', 'type': 'string'}, 'datatype': 'string'}]}, 'qualifiers-order': ['P828'], 'id': 'L1576-S1$F4C12B25-7356-4D18-ACAF-462AD8B3B61F', 'rank': 'normal', 'references': [{'hash': '87e05c6c4fc2d74529d7801340c18955516b6d96', 'snaks': {'P828': [{'snaktype': 'value', 'property': 'P828', 'hash': '617bd3516c2003df28ab90fd6ee0bd8237f1f8e6', 'datavalue': {'value': 'Sense string reference', 'type': 'string'}, 'datatype': 'string'}]}, 'snaks-order': ['P828']}, {'hash': '989b65b201e4b2fbd9d5c2c8d7bd7b7e9d2ce5c7', 'snaks': {'P828': [{'snaktype': 'value', 'property': 'P828', 'hash': '1afe472d8815b3cbf50d2e5b1c497456a82f055f', 'datavalue': {'value': 'Another sense string reference', 'type': 'string'}, 'datatype': 'string'}]}, 'snaks-order': ['P828']}]}]}}], 'lastrevid': 543124}\n\t require_write=True\n\t fast_run_container=None\n\t lemmas=<Lemmas @60aa90 _LanguageValues__values={'en': <LanguageValue @60adf0 _LanguageValue__language='en' _LanguageValue__value='English lemma' _LanguageValue__removed=False>, 'fr': <LanguageValue @60ac10 _LanguageValue__language='fr' _LanguageValue__value='French lemma' _LanguageValue__removed=False>}>\n\t lexical_category='Q1244'\n\t language='Q1860'\n\t forms=<Forms @60aac0 _Forms__forms={'L1576-F1': <Form @5df610 _Form__id='L1576-F1' _Form__representations={'en': {'language': 'en', 'value': 'English form representation'}, 'fr': {'language': 'fr', 'value': 'French form representation'}} _Form__grammatical_features=['Q146786'] _Form__claims=<Claims @60a970 _Claims__claims={'P828': [<Claim @5df640 _Claim__mainsnak=<Snak @5df430 _Snak__snaktype='value' _Snak__property_number='P828' _Snak__hash='288a8a8f1e12b9bacb056319c4ed0f3e6bafdd00' _Snak__datavalue={'value': 'Create a string claim for form', 'type': 'string'} _Snak__datatype='string'> _Claim__type='statement' _Claim__qualifiers=<Snaks @5df7c0 snaks={'P828': [<Snak @5fdd00 _Snak__snaktype='value' _Snak__property_number='P828' _Snak__hash='6c157568b379f4c2722f30a9fee95d3c5f99dfe9' _Snak__datavalue={'value': 'Form qualifier', 'type': 'string'} _Snak__datatype='string'>]}> _Claim__qualifiers_order=['P828'] _Claim__id='L1576-F1$683B7147-12DE-4C97-A13B-23725DB6D3B8' _Claim__rank='normal' _Claim__references=<References @5dff70 references=[<Reference @5fdc70 _Reference__hash='32f599c26d4251d72272b3a65294d6d5517d2445' _Reference__snaks=<Snaks @5fd070 snaks={'P828': [<Snak @5fd670 _Snak__snaktype='value' _Snak__property_number='P828' _Snak__hash='1cbb07e7eba6906acf68f427a3f87fefc0a53283' _Snak__datavalue={'value': 'Form string reference', 'type': 'string'} _Snak__datatype='string'>]}> _Reference__snaks_order=['P828']>, <Reference @5fda90 _Reference__hash='a0f20d048c3df03c1bfb25c63869ba37b32c9e01' _Reference__snaks=<Snaks @5fd7c0 snaks={'P828': [<Snak @5fdb80 _Snak__snaktype='value' _Snak__property_number='P828' _Snak__hash='67bef049d400b9d7e2e2695320d85012c9122df5' _Snak__datavalue={'value': 'Another form string reference', 'type': 'string'} _Snak__datatype='string'>]}> _Reference__snaks_order=['P828']>]> _Claim__removed=False>]}>>}>\n\t senses=<Senses @60ae80 senses=[<Sense @5fdd90 id='L1576-S1' glosses=<Glosses @5fd640 _LanguageValues__values={'en': <LanguageValue @5fd6d0 _LanguageValue__language='en' _LanguageValue__value='English gloss' _LanguageValue__removed=False>, 'fr': <LanguageValue @5fdcd0 _LanguageValue__language='fr' _LanguageValue__value='French gloss' _LanguageValue__removed=False>}> claims=<Claims @5fd160 _Claims__claims={'P828': [<Claim @5fdbb0 _Claim__mainsnak=<Snak @5fd310 _Snak__snaktype='value' _Snak__property_number='P828' _Snak__hash='9781442191b38e26c55b1dfde6f6203c9127c4f3' _Snak__datavalue={'value': 'Create a string claim for sense', 'type': 'string'} _Snak__datatype='string'> _Claim__type='statement' _Claim__qualifiers=<Snaks @5fdd60 snaks={'P828': [<Snak @5fd280 _Snak__snaktype='value' _Snak__property_number='P828' _Snak__hash='c1afe7627d9711627e1e48b8e015ade998d6d434' _Snak__datavalue={'value': 'Sense qualifier', 'type': 'string'} _Snak__datatype='string'>]}> _Claim__qualifiers_order=['P828'] _Claim__id='L1576-S1$F4C12B25-7356-4D18-ACAF-462AD8B3B61F' _Claim__rank='normal' _Claim__references=<References @5fdee0 references=[<Reference @5fd3d0 _Reference__hash='87e05c6c4fc2d74529d7801340c18955516b6d96' _Reference__snaks=<Snaks @5fd610 snaks={'P828': [<Snak @5fd1f0 _Snak__snaktype='value' _Snak__property_number='P828' _Snak__hash='617bd3516c2003df28ab90fd6ee0bd8237f1f8e6' _Snak__datavalue={'value': 'Sense string reference', 'type': 'string'} _Snak__datatype='string'>]}> _Reference__snaks_order=['P828']>, <Reference @5fd340 _Reference__hash='989b65b201e4b2fbd9d5c2c8d7bd7b7e9d2ce5c7' _Reference__snaks=<Snaks @5fd490 snaks={'P828': [<Snak @5bcf10 _Snak__snaktype='value' _Snak__property_number='P828' _Snak__hash='1afe472d8815b3cbf50d2e5b1c497456a82f055f' _Snak__datavalue={'value': 'Another sense string reference', 'type': 'string'} _Snak__datatype='string'>]}> _Reference__snaks_order=['P828']>]> _Claim__removed=False>]}> removed=False>]>>"
     },
     "execution_count": 10,
     "metadata": {},
     "output_type": "execute_result"
    }
   ],
   "source": [
    "lexeme.write()"
   ],
   "metadata": {
    "collapsed": false,
    "pycharm": {
     "name": "#%%\n"
    }
   }
  }
 ],
 "metadata": {
  "kernelspec": {
   "display_name": "Python 3",
   "language": "python",
   "name": "python3"
  },
  "language_info": {
   "codemirror_mode": {
    "name": "ipython",
    "version": 2
   },
   "file_extension": ".py",
   "mimetype": "text/x-python",
   "name": "python",
   "nbconvert_exporter": "python",
   "pygments_lexer": "ipython2",
   "version": "2.7.6"
  }
 },
 "nbformat": 4,
 "nbformat_minor": 0
}
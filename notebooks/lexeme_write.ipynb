{
 "cells": [
  {
   "cell_type": "markdown",
   "source": [
    "# Write a new Lexeme"
   ],
   "metadata": {
    "collapsed": false
   }
  },
  {
   "cell_type": "code",
   "execution_count": 1,
   "metadata": {
    "collapsed": true
   },
   "outputs": [],
   "source": [
    "from wikibaseintegrator import WikibaseIntegrator, wbi_login, datatypes\n",
    "from wikibaseintegrator.models import Reference, References, Form, Sense\n",
    "from wikibaseintegrator.models.qualifiers import Qualifiers\n",
    "from wikibaseintegrator.wbi_config import config"
   ]
  },
  {
   "cell_type": "code",
   "execution_count": 2,
   "outputs": [],
   "source": [
    "WDUSER = ''\n",
    "WDPASS = ''"
   ],
   "metadata": {
    "collapsed": false,
    "pycharm": {
     "name": "#%%\n"
    }
   }
  },
  {
   "cell_type": "markdown",
   "source": [
    "Set default variables"
   ],
   "metadata": {
    "collapsed": false,
    "pycharm": {
     "name": "#%% md\n"
    }
   }
  },
  {
   "cell_type": "code",
   "execution_count": 3,
   "outputs": [],
   "source": [
    "config['MEDIAWIKI_API_URL'] = 'https://test.wikidata.org/w/api.php'\n",
    "config['USER_AGENT'] = 'Lexeme Write Notebook'"
   ],
   "metadata": {
    "collapsed": false,
    "pycharm": {
     "name": "#%%\n"
    }
   }
  },
  {
   "cell_type": "markdown",
   "source": [
    "Create login and WikibaseIntegrator object"
   ],
   "metadata": {
    "collapsed": false,
    "pycharm": {
     "name": "#%% md\n"
    }
   }
  },
  {
   "cell_type": "code",
   "execution_count": 4,
   "outputs": [],
   "source": [
    "login = wbi_login.Login(user=WDUSER, password=WDPASS, mediawiki_api_url='https://test.wikidata.org/w/api.php')\n",
    "wbi = WikibaseIntegrator(login=login)"
   ],
   "metadata": {
    "collapsed": false,
    "pycharm": {
     "name": "#%%\n"
    }
   }
  },
  {
   "cell_type": "markdown",
   "source": [
    "# Create a new verb lexeme"
   ],
   "metadata": {
    "collapsed": false,
    "pycharm": {
     "name": "#%% md\n"
    }
   }
  },
  {
   "cell_type": "code",
   "execution_count": 5,
   "outputs": [],
   "source": [
    "lexeme = wbi.lexeme.new(lexical_category='Q1244')"
   ],
   "metadata": {
    "collapsed": false,
    "pycharm": {
     "name": "#%%\n"
    }
   }
  },
  {
   "cell_type": "markdown",
   "source": [
    "Set english and French lemmas"
   ],
   "metadata": {
    "collapsed": false,
    "pycharm": {
     "name": "#%% md\n"
    }
   }
  },
  {
   "cell_type": "code",
   "execution_count": 6,
   "outputs": [
    {
     "data": {
      "text/plain": "<LanguageValue @28c790 _LanguageValue__language='fr' _LanguageValue__value='French lemma' _LanguageValue__removed=False>"
     },
     "execution_count": 6,
     "metadata": {},
     "output_type": "execute_result"
    }
   ],
   "source": [
    "# Lemmas\n",
    "lexeme.lemmas.set(language='en', value='English lemma')\n",
    "lexeme.lemmas.set(language='fr', value='French lemma')"
   ],
   "metadata": {
    "collapsed": false,
    "pycharm": {
     "name": "#%%\n"
    }
   }
  },
  {
   "cell_type": "markdown",
   "source": [
    "## Create and add a claim"
   ],
   "metadata": {
    "collapsed": false,
    "pycharm": {
     "name": "#%% md\n"
    }
   }
  },
  {
   "cell_type": "code",
   "execution_count": 7,
   "outputs": [],
   "source": [
    "# Claims\n",
    "claim_references = References()  # Create a group of references\n",
    "\n",
    "claim_reference1 = Reference()\n",
    "claim_reference1.add(datatypes.String(prop_nr='P828', value='Claim string reference'))\n",
    "\n",
    "claim_reference2 = Reference()\n",
    "claim_reference2.add(datatypes.String(prop_nr='P828', value='Another claim string reference'))\n",
    "\n",
    "# Add each reference to the group of references\n",
    "claim_references.add(claim_reference1)\n",
    "claim_references.add(claim_reference2)\n",
    "\n",
    "claim_qualifiers = Qualifiers()\n",
    "claim_qualifiers.add(datatypes.String(prop_nr='P828', value='Claim qualifier'))\n",
    "\n",
    "claim = datatypes.String(prop_nr='P828', value=\"Create a string claim for claim\", references=claim_references,\n",
    "                         qualifiers=claim_qualifiers)\n"
   ],
   "metadata": {
    "collapsed": false,
    "pycharm": {
     "name": "#%%\n"
    }
   }
  },
  {
   "cell_type": "markdown",
   "source": [
    "Add claim to lexeme"
   ],
   "metadata": {
    "collapsed": false,
    "pycharm": {
     "name": "#%% md\n"
    }
   }
  },
  {
   "cell_type": "code",
   "execution_count": 8,
   "outputs": [
    {
     "data": {
      "text/plain": "<Claims @2334c0 _Claims__claims={'P828': [<String @28cb80 _Claim__mainsnak=<Snak @28e320 _Snak__snaktype=<WikibaseSnakType.KNOWN_VALUE: 'value'> _Snak__property_number='P828' _Snak__hash=None _Snak__datavalue={'value': 'Create a string claim for claim', 'type': 'string'} _Snak__datatype='string'> _Claim__type='statement' _Claim__qualifiers=<Qualifiers @28c490 _Qualifiers__qualifiers={'P828': [<Snak @28e350 _Snak__snaktype=<WikibaseSnakType.KNOWN_VALUE: 'value'> _Snak__property_number='P828' _Snak__hash=None _Snak__datavalue={'value': 'Claim qualifier', 'type': 'string'} _Snak__datatype='string'>]}> _Claim__qualifiers_order=[] _Claim__id=None _Claim__rank=<WikibaseRank.NORMAL: 'normal'> _Claim__removed=False _Claim__references=<References @28c4c0 _References__references=[<Reference @28c250 _Reference__hash=None _Reference__snaks=<Snaks @28c7c0 snaks={'P828': [<Snak @28d210 _Snak__snaktype=<WikibaseSnakType.KNOWN_VALUE: 'value'> _Snak__property_number='P828' _Snak__hash=None _Snak__datavalue={'value': 'Claim string reference', 'type': 'string'} _Snak__datatype='string'>]}> _Reference__snaks_order=[]>, <Reference @28d180 _Reference__hash=None _Reference__snaks=<Snaks @28d3c0 snaks={'P828': [<Snak @28cdc0 _Snak__snaktype=<WikibaseSnakType.KNOWN_VALUE: 'value'> _Snak__property_number='P828' _Snak__hash=None _Snak__datavalue={'value': 'Another claim string reference', 'type': 'string'} _Snak__datatype='string'>]}> _Reference__snaks_order=[]>]>>]}>"
     },
     "execution_count": 8,
     "metadata": {},
     "output_type": "execute_result"
    }
   ],
   "source": [
    "lexeme.claims.add(claim)"
   ],
   "metadata": {
    "collapsed": false,
    "pycharm": {
     "name": "#%%\n"
    }
   }
  },
  {
   "cell_type": "markdown",
   "source": [
    "## Create and add a sense"
   ],
   "metadata": {
    "collapsed": false,
    "pycharm": {
     "name": "#%% md\n"
    }
   }
  },
  {
   "cell_type": "code",
   "execution_count": 9,
   "outputs": [
    {
     "data": {
      "text/plain": "<Senses @233eb0 senses=[<Sense @28e740 id=None glosses=<Glosses @28e020 _LanguageValues__values={'en': <LanguageValue @28fe20 _LanguageValue__language='en' _LanguageValue__value='English gloss' _LanguageValue__removed=False>, 'fr': <LanguageValue @28dfc0 _LanguageValue__language='fr' _LanguageValue__value='French gloss' _LanguageValue__removed=False>}> claims=<Claims @28e0e0 _Claims__claims={'P828': [<String @28ece0 _Claim__mainsnak=<Snak @28ee30 _Snak__snaktype=<WikibaseSnakType.KNOWN_VALUE: 'value'> _Snak__property_number='P828' _Snak__hash=None _Snak__datavalue={'value': 'Create a string claim for sense', 'type': 'string'} _Snak__datatype='string'> _Claim__type='statement' _Claim__qualifiers=<Qualifiers @28cf70 _Qualifiers__qualifiers={'P828': [<Snak @28ee60 _Snak__snaktype=<WikibaseSnakType.KNOWN_VALUE: 'value'> _Snak__property_number='P828' _Snak__hash=None _Snak__datavalue={'value': 'Sense qualifier', 'type': 'string'} _Snak__datatype='string'>]}> _Claim__qualifiers_order=[] _Claim__id=None _Claim__rank=<WikibaseRank.NORMAL: 'normal'> _Claim__removed=False _Claim__references=<References @28e6e0 _References__references=[<Reference @28d000 _Reference__hash=None _Reference__snaks=<Snaks @28cf40 snaks={'P828': [<Snak @28ec80 _Snak__snaktype=<WikibaseSnakType.KNOWN_VALUE: 'value'> _Snak__property_number='P828' _Snak__hash=None _Snak__datavalue={'value': 'Sense string reference', 'type': 'string'} _Snak__datatype='string'>]}> _Reference__snaks_order=[]>, <Reference @28ce50 _Reference__hash=None _Reference__snaks=<Snaks @28ebc0 snaks={'P828': [<Snak @28eda0 _Snak__snaktype=<WikibaseSnakType.KNOWN_VALUE: 'value'> _Snak__property_number='P828' _Snak__hash=None _Snak__datavalue={'value': 'Another sense string reference', 'type': 'string'} _Snak__datatype='string'>]}> _Reference__snaks_order=[]>]>>]}> removed=False>]>"
     },
     "execution_count": 9,
     "metadata": {},
     "output_type": "execute_result"
    }
   ],
   "source": [
    "# Senses\n",
    "sense = Sense()\n",
    "sense.glosses.set(language='en', value='English gloss')\n",
    "sense.glosses.set(language='fr', value='French gloss')\n",
    "\n",
    "# Senses claims\n",
    "sense_references = References()\n",
    "sense_reference1 = Reference()\n",
    "sense_reference1.add(datatypes.String(prop_nr='P828', value='Sense string reference'))\n",
    "\n",
    "sense_reference2 = Reference()\n",
    "sense_reference2.add(datatypes.String(prop_nr='P828', value='Another sense string reference'))\n",
    "\n",
    "sense_references.add(sense_reference1)\n",
    "sense_references.add(sense_reference2)\n",
    "\n",
    "sense_qualifiers = Qualifiers()\n",
    "sense_qualifiers.add(datatypes.String(prop_nr='P828', value='Sense qualifier'))\n",
    "\n",
    "claim = datatypes.String(prop_nr='P828', value=\"Create a string claim for sense\", references=sense_references,\n",
    "                         qualifiers=sense_qualifiers)\n",
    "\n",
    "sense.claims.add(claim)\n",
    "\n",
    "lexeme.senses.add(sense)"
   ],
   "metadata": {
    "collapsed": false,
    "pycharm": {
     "name": "#%%\n"
    }
   }
  },
  {
   "cell_type": "markdown",
   "source": [
    "## Create and add a form"
   ],
   "metadata": {
    "collapsed": false
   }
  },
  {
   "cell_type": "code",
   "execution_count": 10,
   "outputs": [
    {
     "data": {
      "text/plain": "<Forms @232dd0 _Forms__forms={None: <Form @28e410 _Form__id=None _Form__representations=<LanguageValues @28f2e0 _LanguageValues__values={'en': <LanguageValue @28e1d0 _LanguageValue__language='en' _LanguageValue__value='English form representation' _LanguageValue__removed=False>, 'fr': <LanguageValue @28f280 _LanguageValue__language='fr' _LanguageValue__value='French form representation' _LanguageValue__removed=False>}> _Form__grammatical_features=['Q146786'] _Form__claims=<Claims @28f220 _Claims__claims={'P828': [<String @28d990 _Claim__mainsnak=<Snak @28dc60 _Snak__snaktype=<WikibaseSnakType.KNOWN_VALUE: 'value'> _Snak__property_number='P828' _Snak__hash=None _Snak__datavalue={'value': 'Create a string claim for form', 'type': 'string'} _Snak__datatype='string'> _Claim__type='statement' _Claim__qualifiers=<Qualifiers @28e3b0 _Qualifiers__qualifiers={'P828': [<Snak @28e260 _Snak__snaktype=<WikibaseSnakType.KNOWN_VALUE: 'value'> _Snak__property_number='P828' _Snak__hash=None _Snak__datavalue={'value': 'Form qualifier', 'type': 'string'} _Snak__datatype='string'>]}> _Claim__qualifiers_order=[] _Claim__id=None _Claim__rank=<WikibaseRank.NORMAL: 'normal'> _Claim__removed=False _Claim__references=<References @28f9a0 _References__references=[<Reference @28e770 _Reference__hash=None _Reference__snaks=<Snaks @28f880 snaks={'P828': [<Snak @28d960 _Snak__snaktype=<WikibaseSnakType.KNOWN_VALUE: 'value'> _Snak__property_number='P828' _Snak__hash=None _Snak__datavalue={'value': 'Form string reference', 'type': 'string'} _Snak__datatype='string'>]}> _Reference__snaks_order=[]>, <Reference @28f820 _Reference__hash=None _Reference__snaks=<Snaks @28d4b0 snaks={'P828': [<Snak @28da80 _Snak__snaktype=<WikibaseSnakType.KNOWN_VALUE: 'value'> _Snak__property_number='P828' _Snak__hash=None _Snak__datavalue={'value': 'Another form string reference', 'type': 'string'} _Snak__datatype='string'>]}> _Reference__snaks_order=[]>]>>]}>>}>"
     },
     "execution_count": 10,
     "metadata": {},
     "output_type": "execute_result"
    }
   ],
   "source": [
    "# Forms\n",
    "form = Form()\n",
    "\n",
    "# Form representations\n",
    "form.representations.set(language='en', value='English form representation')\n",
    "form.representations.set(language='fr', value='French form representation')\n",
    "\n",
    "# Add a list of grammatical features to the form\n",
    "form.grammatical_features = ['Q146786']\n",
    "\n",
    "# Form claims\n",
    "form_references = References()  # Create a group of references\n",
    "form_reference1 = Reference()\n",
    "form_reference1.add(datatypes.String(prop_nr='P828', value='Form string reference'))\n",
    "\n",
    "form_reference2 = Reference()\n",
    "form_reference2.add(datatypes.String(prop_nr='P828', value='Another form string reference'))\n",
    "\n",
    "form_references.add(form_reference1)\n",
    "form_references.add(form_reference2)\n",
    "\n",
    "form_qualifiers = Qualifiers()\n",
    "form_qualifiers.add(datatypes.String(prop_nr='P828', value='Form qualifier'))\n",
    "\n",
    "claim = datatypes.String(prop_nr='P828', value=\"Create a string claim for form\", references=form_references,\n",
    "                         qualifiers=form_qualifiers)\n",
    "\n",
    "form.claims.add(claim)\n",
    "\n",
    "lexeme.forms.add(form)"
   ],
   "metadata": {
    "collapsed": false,
    "pycharm": {
     "name": "#%%\n"
    }
   }
  },
  {
   "cell_type": "markdown",
   "source": [
    "## Write the lexeme to the Wikibase"
   ],
   "metadata": {
    "collapsed": false,
    "pycharm": {
     "name": "#%% md\n"
    }
   }
  },
  {
   "cell_type": "code",
   "execution_count": 11,
   "outputs": [
    {
     "data": {
      "text/plain": "<Lexeme @232860 api=<wikibaseintegrator.wikibaseintegrator.WikibaseIntegrator object at 0x0000020EA42322F0>\n\t lastrevid=553076\n\t type='lexeme'\n\t id='L1734'\n\t claims=<Claims @233b20 _Claims__claims={'P828': [<String @28cb50 _Claim__mainsnak=<Snak @28f7c0 _Snak__snaktype=<WikibaseSnakType.KNOWN_VALUE: 'value'> _Snak__property_number='P828' _Snak__hash='dc920cec98f0e830c30011cd496108be8d50afab' _Snak__datavalue={'value': 'Create a string claim for claim', 'type': 'string'} _Snak__datatype='string'> _Claim__type='statement' _Claim__qualifiers=<Qualifiers @28e980 _Qualifiers__qualifiers={'P828': [<Snak @28f760 _Snak__snaktype=<WikibaseSnakType.KNOWN_VALUE: 'value'> _Snak__property_number='P828' _Snak__hash='351f871bfe166697d3270cc0df7df8d09603efb0' _Snak__datavalue={'value': 'Claim qualifier', 'type': 'string'} _Snak__datatype='string'>]}> _Claim__qualifiers_order=['P828'] _Claim__id='L1734$692E2FA0-0970-4280-8A59-B9A59B3DC86E' _Claim__rank=<WikibaseRank.NORMAL: 'normal'> _Claim__removed=False _Claim__references=<References @28e830 _References__references=[<Reference @28f6a0 _Reference__hash='ef1ebde859c902590dfbe5a3bd7a2f7af01f4a4f' _Reference__snaks=<Snaks @28d480 snaks={'P828': [<Snak @28feb0 _Snak__snaktype=<WikibaseSnakType.KNOWN_VALUE: 'value'> _Snak__property_number='P828' _Snak__hash='bae62d7b26cff18d5a9d277e04475fcb6bd9bcfb' _Snak__datavalue={'value': 'Claim string reference', 'type': 'string'} _Snak__datatype='string'>]}> _Reference__snaks_order=['P828']>, <Reference @28f700 _Reference__hash='77df7e5db38ec15b7abac0755c4dc8e781ba9369' _Reference__snaks=<Snaks @28e620 snaks={'P828': [<Snak @28f850 _Snak__snaktype=<WikibaseSnakType.KNOWN_VALUE: 'value'> _Snak__property_number='P828' _Snak__hash='dcd0b956c352f2036bb7da153c4db941e74a803f' _Snak__datavalue={'value': 'Another claim string reference', 'type': 'string'} _Snak__datatype='string'>]}> _Reference__snaks_order=['P828']>]>>]}>\n\t lemmas=<Lemmas @233af0 _LanguageValues__values={'en': <LanguageValue @28e5f0 _LanguageValue__language='en' _LanguageValue__value='English lemma' _LanguageValue__removed=False>, 'fr': <LanguageValue @28f730 _LanguageValue__language='fr' _LanguageValue__value='French lemma' _LanguageValue__removed=False>}>\n\t lexical_category='Q1244'\n\t language='Q1860'\n\t forms=<Forms @232470 _Forms__forms={'L1734-F1': <Form @28c520 _Form__id='L1734-F1' _Form__representations=<Representations @28c280 _LanguageValues__values={'en': <LanguageValue @28c430 _LanguageValue__language='en' _LanguageValue__value='English form representation' _LanguageValue__removed=False>, 'fr': <LanguageValue @28fac0 _LanguageValue__language='fr' _LanguageValue__value='French form representation' _LanguageValue__removed=False>}> _Form__grammatical_features=['Q146786'] _Form__claims=<Claims @28fa90 _Claims__claims={'P828': [<String @28c220 _Claim__mainsnak=<Snak @28c0d0 _Snak__snaktype=<WikibaseSnakType.KNOWN_VALUE: 'value'> _Snak__property_number='P828' _Snak__hash='288a8a8f1e12b9bacb056319c4ed0f3e6bafdd00' _Snak__datavalue={'value': 'Create a string claim for form', 'type': 'string'} _Snak__datatype='string'> _Claim__type='statement' _Claim__qualifiers=<Qualifiers @28ffd0 _Qualifiers__qualifiers={'P828': [<Snak @28c130 _Snak__snaktype=<WikibaseSnakType.KNOWN_VALUE: 'value'> _Snak__property_number='P828' _Snak__hash='6c157568b379f4c2722f30a9fee95d3c5f99dfe9' _Snak__datavalue={'value': 'Form qualifier', 'type': 'string'} _Snak__datatype='string'>]}> _Claim__qualifiers_order=['P828'] _Claim__id='L1734-F1$36902198-7926-41E1-BAC9-5E8601F4A2A7' _Claim__rank=<WikibaseRank.NORMAL: 'normal'> _Claim__removed=False _Claim__references=<References @28c100 _References__references=[<Reference @28c2b0 _Reference__hash='32f599c26d4251d72272b3a65294d6d5517d2445' _Reference__snaks=<Snaks @28d6c0 snaks={'P828': [<Snak @28ee00 _Snak__snaktype=<WikibaseSnakType.KNOWN_VALUE: 'value'> _Snak__property_number='P828' _Snak__hash='1cbb07e7eba6906acf68f427a3f87fefc0a53283' _Snak__datavalue={'value': 'Form string reference', 'type': 'string'} _Snak__datatype='string'>]}> _Reference__snaks_order=['P828']>, <Reference @28d630 _Reference__hash='a0f20d048c3df03c1bfb25c63869ba37b32c9e01' _Reference__snaks=<Snaks @28e1a0 snaks={'P828': [<Snak @28d360 _Snak__snaktype=<WikibaseSnakType.KNOWN_VALUE: 'value'> _Snak__property_number='P828' _Snak__hash='67bef049d400b9d7e2e2695320d85012c9122df5' _Snak__datavalue={'value': 'Another form string reference', 'type': 'string'} _Snak__datatype='string'>]}> _Reference__snaks_order=['P828']>]>>]}>>}>\n\t senses=<Senses @28c580 senses=[<Sense @28c850 id='L1734-S1' glosses=<Glosses @28dd80 _LanguageValues__values={'en': <LanguageValue @28ded0 _LanguageValue__language='en' _LanguageValue__value='English gloss' _LanguageValue__removed=False>, 'fr': <LanguageValue @28ed70 _LanguageValue__language='fr' _LanguageValue__value='French gloss' _LanguageValue__removed=False>}> claims=<Claims @28e2f0 _Claims__claims={'P828': [<String @28dd50 _Claim__mainsnak=<Snak @28ec50 _Snak__snaktype=<WikibaseSnakType.KNOWN_VALUE: 'value'> _Snak__property_number='P828' _Snak__hash='9781442191b38e26c55b1dfde6f6203c9127c4f3' _Snak__datavalue={'value': 'Create a string claim for sense', 'type': 'string'} _Snak__datatype='string'> _Claim__type='statement' _Claim__qualifiers=<Qualifiers @28e0b0 _Qualifiers__qualifiers={'P828': [<Snak @28f460 _Snak__snaktype=<WikibaseSnakType.KNOWN_VALUE: 'value'> _Snak__property_number='P828' _Snak__hash='c1afe7627d9711627e1e48b8e015ade998d6d434' _Snak__datavalue={'value': 'Sense qualifier', 'type': 'string'} _Snak__datatype='string'>]}> _Claim__qualifiers_order=['P828'] _Claim__id='L1734-S1$37E31B12-1BB8-454A-8ADE-84AAED4A49EA' _Claim__rank=<WikibaseRank.NORMAL: 'normal'> _Claim__removed=False _Claim__references=<References @28f310 _References__references=[<Reference @28f400 _Reference__hash='87e05c6c4fc2d74529d7801340c18955516b6d96' _Reference__snaks=<Snaks @28f520 snaks={'P828': [<Snak @28f4c0 _Snak__snaktype=<WikibaseSnakType.KNOWN_VALUE: 'value'> _Snak__property_number='P828' _Snak__hash='617bd3516c2003df28ab90fd6ee0bd8237f1f8e6' _Snak__datavalue={'value': 'Sense string reference', 'type': 'string'} _Snak__datatype='string'>]}> _Reference__snaks_order=['P828']>, <Reference @28f430 _Reference__hash='989b65b201e4b2fbd9d5c2c8d7bd7b7e9d2ce5c7' _Reference__snaks=<Snaks @28f8e0 snaks={'P828': [<Snak @28ccd0 _Snak__snaktype=<WikibaseSnakType.KNOWN_VALUE: 'value'> _Snak__property_number='P828' _Snak__hash='1afe472d8815b3cbf50d2e5b1c497456a82f055f' _Snak__datavalue={'value': 'Another sense string reference', 'type': 'string'} _Snak__datatype='string'>]}> _Reference__snaks_order=['P828']>]>>]}> removed=False>]>>"
     },
     "execution_count": 11,
     "metadata": {},
     "output_type": "execute_result"
    }
   ],
   "source": [
    "lexeme.write()\n"
   ],
   "metadata": {
    "collapsed": false,
    "pycharm": {
     "name": "#%%\n"
    }
   }
  }
 ],
 "metadata": {
  "kernelspec": {
   "display_name": "Python 3",
   "language": "python",
   "name": "python3"
  },
  "language_info": {
   "codemirror_mode": {
    "name": "ipython",
    "version": 2
   },
   "file_extension": ".py",
   "mimetype": "text/x-python",
   "name": "python",
   "nbconvert_exporter": "python",
   "pygments_lexer": "ipython2",
   "version": "2.7.6"
  }
 },
 "nbformat": 4,
 "nbformat_minor": 0
}
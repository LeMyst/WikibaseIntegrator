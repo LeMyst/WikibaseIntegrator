{
 "cells": [
  {
   "cell_type": "code",
   "execution_count": 1,
   "metadata": {
    "collapsed": true
   },
   "outputs": [],
   "source": [
    "from wikibaseintegrator import WikibaseIntegrator, wbi_login, datatypes\n",
    "from wikibaseintegrator.models import Reference, References, Form, Sense\n",
    "from wikibaseintegrator.models.qualifiers import Qualifiers\n",
    "from wikibaseintegrator.wbi_config import config"
   ]
  },
  {
   "cell_type": "code",
   "execution_count": 2,
   "outputs": [],
   "source": [
    "WDUSER = ''\n",
    "WDPASS = ''"
   ],
   "metadata": {
    "collapsed": false,
    "pycharm": {
     "name": "#%%\n"
    }
   }
  },
  {
   "cell_type": "markdown",
   "source": [
    "Set default variables"
   ],
   "metadata": {
    "collapsed": false,
    "pycharm": {
     "name": "#%% md\n"
    }
   }
  },
  {
   "cell_type": "code",
   "execution_count": 3,
   "outputs": [],
   "source": [
    "config['MEDIAWIKI_API_URL'] = 'https://test.wikidata.org/w/api.php'"
   ],
   "metadata": {
    "collapsed": false,
    "pycharm": {
     "name": "#%%\n"
    }
   }
  },
  {
   "cell_type": "markdown",
   "source": [
    "Create login and WikibaseIntegrator object"
   ],
   "metadata": {
    "collapsed": false,
    "pycharm": {
     "name": "#%% md\n"
    }
   }
  },
  {
   "cell_type": "code",
   "execution_count": 4,
   "outputs": [],
   "source": [
    "login = wbi_login.Login(user=WDUSER, pwd=WDPASS, mediawiki_api_url='https://test.wikidata.org/w/api.php')\n",
    "wbi = WikibaseIntegrator(login=login)"
   ],
   "metadata": {
    "collapsed": false,
    "pycharm": {
     "name": "#%%\n"
    }
   }
  },
  {
   "cell_type": "markdown",
   "source": [
    "# Create a new verb lexeme"
   ],
   "metadata": {
    "collapsed": false,
    "pycharm": {
     "name": "#%% md\n"
    }
   }
  },
  {
   "cell_type": "code",
   "execution_count": 5,
   "outputs": [],
   "source": [
    "lexeme = wbi.lexeme.new(lexical_category='Q1244')"
   ],
   "metadata": {
    "collapsed": false,
    "pycharm": {
     "name": "#%%\n"
    }
   }
  },
  {
   "cell_type": "markdown",
   "source": [
    "Set english and French lemmas"
   ],
   "metadata": {
    "collapsed": false,
    "pycharm": {
     "name": "#%% md\n"
    }
   }
  },
  {
   "cell_type": "code",
   "execution_count": 6,
   "outputs": [
    {
     "data": {
      "text/plain": "<LanguageValue @973af0 _LanguageValue__language='fr' _LanguageValue__value='French lemma' _LanguageValue__removed=False>"
     },
     "execution_count": 6,
     "metadata": {},
     "output_type": "execute_result"
    }
   ],
   "source": [
    "# Lemmas\n",
    "lexeme.lemmas.set(language='en', value='English lemma')\n",
    "lexeme.lemmas.set(language='fr', value='French lemma')"
   ],
   "metadata": {
    "collapsed": false,
    "pycharm": {
     "name": "#%%\n"
    }
   }
  },
  {
   "cell_type": "markdown",
   "source": [
    "## Create and add a claim"
   ],
   "metadata": {
    "collapsed": false,
    "pycharm": {
     "name": "#%% md\n"
    }
   }
  },
  {
   "cell_type": "code",
   "execution_count": 7,
   "outputs": [],
   "source": [
    "# Claims\n",
    "claim_references = References()  # Create a group of references\n",
    "\n",
    "claim_reference1 = Reference()\n",
    "claim_reference1.add(datatypes.String(prop_nr='P828', value='Claim string reference'))\n",
    "\n",
    "claim_reference2 = Reference()\n",
    "claim_reference2.add(datatypes.String(prop_nr='P828', value='Another claim string reference'))\n",
    "\n",
    "# Add each reference to the group of references\n",
    "claim_references.add(claim_reference1)\n",
    "claim_references.add(claim_reference2)\n",
    "\n",
    "claim_qualifiers = Qualifiers()\n",
    "claim_qualifiers.add(datatypes.String(prop_nr='P828', value='Claim qualifier'))\n",
    "\n",
    "claim = datatypes.String(prop_nr='P828', value=\"Create a string claim for claim\", references=claim_references,\n",
    "                         qualifiers=claim_qualifiers)\n"
   ],
   "metadata": {
    "collapsed": false,
    "pycharm": {
     "name": "#%%\n"
    }
   }
  },
  {
   "cell_type": "markdown",
   "source": [
    "Add claim to lexeme"
   ],
   "metadata": {
    "collapsed": false,
    "pycharm": {
     "name": "#%% md\n"
    }
   }
  },
  {
   "cell_type": "code",
   "execution_count": 8,
   "outputs": [
    {
     "data": {
      "text/plain": "<Claims @973220 _Claims__claims={'P828': [<String @973a00 _Claim__mainsnak=<Snak @973580 _Snak__snaktype='value' _Snak__property_number='P828' _Snak__hash=None _Snak__datavalue={'value': 'Create a string claim for claim', 'type': 'string'} _Snak__datatype='string'> _Claim__type='statement' _Claim__qualifiers=<wikibaseintegrator.models.qualifiers.Qualifiers object at 0x0000014EDF973970> _Claim__qualifiers_order=[] _Claim__id=None _Claim__rank='normal' _Claim__references=<References @985580 references=[<Reference @985520 _Reference__hash=None _Reference__snaks=<Snaks @985550 snaks={'P828': [<Snak @973b50 _Snak__snaktype='value' _Snak__property_number='P828' _Snak__hash=None _Snak__datavalue={'value': 'Claim string reference', 'type': 'string'} _Snak__datatype='string'>]}> _Reference__snaks_order=[]>, <Reference @985850 _Reference__hash=None _Reference__snaks=<Snaks @985880 snaks={'P828': [<Snak @973a30 _Snak__snaktype='value' _Snak__property_number='P828' _Snak__hash=None _Snak__datavalue={'value': 'Another claim string reference', 'type': 'string'} _Snak__datatype='string'>]}> _Reference__snaks_order=[]>]> _Claim__removed=False value='Create a string claim for claim'>]}>"
     },
     "execution_count": 8,
     "metadata": {},
     "output_type": "execute_result"
    }
   ],
   "source": [
    "lexeme.claims.add(claim)"
   ],
   "metadata": {
    "collapsed": false,
    "pycharm": {
     "name": "#%%\n"
    }
   }
  },
  {
   "cell_type": "markdown",
   "source": [
    "## Create and add a sense"
   ],
   "metadata": {
    "collapsed": false,
    "pycharm": {
     "name": "#%% md\n"
    }
   }
  },
  {
   "cell_type": "code",
   "execution_count": 9,
   "outputs": [
    {
     "data": {
      "text/plain": "<Senses @973310 senses=[<Sense @98f100 id=None glosses=<Glosses @994070 _LanguageValues__values={'en': <LanguageValue @98f0a0 _LanguageValue__language='en' _LanguageValue__value='English gloss' _LanguageValue__removed=False>, 'fr': <LanguageValue @994160 _LanguageValue__language='fr' _LanguageValue__value='French gloss' _LanguageValue__removed=False>}> claims=<Claims @994100 _Claims__claims={'P828': [<String @994e80 _Claim__mainsnak=<Snak @994490 _Snak__snaktype='value' _Snak__property_number='P828' _Snak__hash=None _Snak__datavalue={'value': 'Create a string claim for sense', 'type': 'string'} _Snak__datatype='string'> _Claim__type='statement' _Claim__qualifiers=<wikibaseintegrator.models.qualifiers.Qualifiers object at 0x0000014EDF994F40> _Claim__qualifiers_order=[] _Claim__id=None _Claim__rank='normal' _Claim__references=<References @9940d0 references=[<Reference @994df0 _Reference__hash=None _Reference__snaks=<Snaks @994e20 snaks={'P828': [<Snak @994640 _Snak__snaktype='value' _Snak__property_number='P828' _Snak__hash=None _Snak__datavalue={'value': 'Sense string reference', 'type': 'string'} _Snak__datatype='string'>]}> _Reference__snaks_order=[]>, <Reference @994f10 _Reference__hash=None _Reference__snaks=<Snaks @994670 snaks={'P828': [<Snak @994520 _Snak__snaktype='value' _Snak__property_number='P828' _Snak__hash=None _Snak__datavalue={'value': 'Another sense string reference', 'type': 'string'} _Snak__datatype='string'>]}> _Reference__snaks_order=[]>]> _Claim__removed=False value='Create a string claim for sense'>]}> removed=False>]>"
     },
     "execution_count": 9,
     "metadata": {},
     "output_type": "execute_result"
    }
   ],
   "source": [
    "# Senses\n",
    "sense = Sense()\n",
    "sense.glosses.set(language='en', value='English gloss')\n",
    "sense.glosses.set(language='fr', value='French gloss')\n",
    "\n",
    "# Senses claims\n",
    "sense_references = References()\n",
    "sense_reference1 = Reference()\n",
    "sense_reference1.add(datatypes.String(prop_nr='P828', value='Sense string reference'))\n",
    "\n",
    "sense_reference2 = Reference()\n",
    "sense_reference2.add(datatypes.String(prop_nr='P828', value='Another sense string reference'))\n",
    "\n",
    "sense_references.add(sense_reference1)\n",
    "sense_references.add(sense_reference2)\n",
    "\n",
    "sense_qualifiers = Qualifiers()\n",
    "sense_qualifiers.add(datatypes.String(prop_nr='P828', value='Sense qualifier'))\n",
    "\n",
    "claim = datatypes.String(prop_nr='P828', value=\"Create a string claim for sense\", references=sense_references,\n",
    "                         qualifiers=sense_qualifiers)\n",
    "\n",
    "sense.claims.add(claim)\n",
    "\n",
    "lexeme.senses.add(sense)"
   ],
   "metadata": {
    "collapsed": false,
    "pycharm": {
     "name": "#%%\n"
    }
   }
  },
  {
   "cell_type": "markdown",
   "source": [
    "## Create and add a form"
   ],
   "metadata": {
    "collapsed": false
   }
  },
  {
   "cell_type": "code",
   "execution_count": 10,
   "outputs": [
    {
     "data": {
      "text/plain": "<Forms @973250 _Forms__forms={None: <Form @9947f0 _Form__id=None _Form__representations=<LanguageValues @9947c0 _LanguageValues__values={'en': <LanguageValue @994820 _LanguageValue__language='en' _LanguageValue__value='English form representation' _LanguageValue__removed=False>, 'fr': <LanguageValue @9852e0 _LanguageValue__language='fr' _LanguageValue__value='French form representation' _LanguageValue__removed=False>}> _Form__grammatical_features=['Q146786'] _Form__claims=<Claims @994e50 _Claims__claims={'P828': [<String @985370 _Claim__mainsnak=<Snak @985790 _Snak__snaktype='value' _Snak__property_number='P828' _Snak__hash=None _Snak__datavalue={'value': 'Create a string claim for form', 'type': 'string'} _Snak__datatype='string'> _Claim__type='statement' _Claim__qualifiers=<wikibaseintegrator.models.qualifiers.Qualifiers object at 0x0000014EDF9850A0> _Claim__qualifiers_order=[] _Claim__id=None _Claim__rank='normal' _Claim__references=<References @985340 references=[<Reference @994700 _Reference__hash=None _Reference__snaks=<Snaks @9852b0 snaks={'P828': [<Snak @985610 _Snak__snaktype='value' _Snak__property_number='P828' _Snak__hash=None _Snak__datavalue={'value': 'Form string reference', 'type': 'string'} _Snak__datatype='string'>]}> _Reference__snaks_order=[]>, <Reference @9850d0 _Reference__hash=None _Reference__snaks=<Snaks @9854c0 snaks={'P828': [<Snak @9851f0 _Snak__snaktype='value' _Snak__property_number='P828' _Snak__hash=None _Snak__datavalue={'value': 'Another form string reference', 'type': 'string'} _Snak__datatype='string'>]}> _Reference__snaks_order=[]>]> _Claim__removed=False value='Create a string claim for form'>]}>>}>"
     },
     "execution_count": 10,
     "metadata": {},
     "output_type": "execute_result"
    }
   ],
   "source": [
    "# Forms\n",
    "form = Form()\n",
    "\n",
    "# Form representations\n",
    "form.representations.set(language='en', value='English form representation')\n",
    "form.representations.set(language='fr', value='French form representation')\n",
    "\n",
    "# Add a list of grammatical features to the form\n",
    "form.grammatical_features = ['Q146786']\n",
    "\n",
    "# Form claims\n",
    "form_references = References()  # Create a group of references\n",
    "form_reference1 = Reference()\n",
    "form_reference1.add(datatypes.String(prop_nr='P828', value='Form string reference'))\n",
    "\n",
    "form_reference2 = Reference()\n",
    "form_reference2.add(datatypes.String(prop_nr='P828', value='Another form string reference'))\n",
    "\n",
    "form_references.add(form_reference1)\n",
    "form_references.add(form_reference2)\n",
    "\n",
    "form_qualifiers = Qualifiers()\n",
    "form_qualifiers.add(datatypes.String(prop_nr='P828', value='Form qualifier'))\n",
    "\n",
    "claim = datatypes.String(prop_nr='P828', value=\"Create a string claim for form\", references=form_references,\n",
    "                         qualifiers=form_qualifiers)\n",
    "\n",
    "form.claims.add(claim)\n",
    "\n",
    "lexeme.forms.add(form)"
   ],
   "metadata": {
    "collapsed": false,
    "pycharm": {
     "name": "#%%\n"
    }
   }
  },
  {
   "cell_type": "markdown",
   "source": [
    "## Write the lexeme to the Wikibase"
   ],
   "metadata": {
    "collapsed": false,
    "pycharm": {
     "name": "#%% md\n"
    }
   }
  },
  {
   "cell_type": "code",
   "execution_count": 11,
   "outputs": [
    {
     "data": {
      "text/plain": "<Lexeme @9732b0 api=<wikibaseintegrator.wikibaseintegrator.WikibaseIntegrator object at 0x0000014EDF93ECA0>\n\t lastrevid=543182\n\t type='lexeme'\n\t id='L1580'\n\t claims=<Claims @973520 _Claims__claims={'P828': [<Claim @973610 _Claim__mainsnak=<Snak @9738e0 _Snak__snaktype='value' _Snak__property_number='P828' _Snak__hash='dc920cec98f0e830c30011cd496108be8d50afab' _Snak__datavalue={'value': 'Create a string claim for claim', 'type': 'string'} _Snak__datatype='string'> _Claim__type='statement' _Claim__qualifiers=<Snaks @973280 snaks={'P828': [<Snak @947940 _Snak__snaktype='value' _Snak__property_number='P828' _Snak__hash='351f871bfe166697d3270cc0df7df8d09603efb0' _Snak__datavalue={'value': 'Claim qualifier', 'type': 'string'} _Snak__datatype='string'>]}> _Claim__qualifiers_order=['P828'] _Claim__id='L1580$B31E8D37-791A-49C8-B687-EBB134AA8CBA' _Claim__rank='normal' _Claim__references=<References @9737f0 references=[<Reference @994b20 _Reference__hash='ef1ebde859c902590dfbe5a3bd7a2f7af01f4a4f' _Reference__snaks=<Snaks @9944c0 snaks={'P828': [<Snak @994ac0 _Snak__snaktype='value' _Snak__property_number='P828' _Snak__hash='bae62d7b26cff18d5a9d277e04475fcb6bd9bcfb' _Snak__datavalue={'value': 'Claim string reference', 'type': 'string'} _Snak__datatype='string'>]}> _Reference__snaks_order=['P828']>, <Reference @9943a0 _Reference__hash='77df7e5db38ec15b7abac0755c4dc8e781ba9369' _Reference__snaks=<Snaks @994d30 snaks={'P828': [<Snak @9945e0 _Snak__snaktype='value' _Snak__property_number='P828' _Snak__hash='dcd0b956c352f2036bb7da153c4db941e74a803f' _Snak__datavalue={'value': 'Another claim string reference', 'type': 'string'} _Snak__datatype='string'>]}> _Reference__snaks_order=['P828']>]> _Claim__removed=False>]}>\n\t json={'type': 'lexeme', 'id': 'L1580', 'lemmas': {'en': {'language': 'en', 'value': 'English lemma'}, 'fr': {'language': 'fr', 'value': 'French lemma'}}, 'lexicalCategory': 'Q1244', 'language': 'Q1860', 'claims': {'P828': [{'mainsnak': {'snaktype': 'value', 'property': 'P828', 'hash': 'dc920cec98f0e830c30011cd496108be8d50afab', 'datavalue': {'value': 'Create a string claim for claim', 'type': 'string'}, 'datatype': 'string'}, 'type': 'statement', 'qualifiers': {'P828': [{'snaktype': 'value', 'property': 'P828', 'hash': '351f871bfe166697d3270cc0df7df8d09603efb0', 'datavalue': {'value': 'Claim qualifier', 'type': 'string'}, 'datatype': 'string'}]}, 'qualifiers-order': ['P828'], 'id': 'L1580$B31E8D37-791A-49C8-B687-EBB134AA8CBA', 'rank': 'normal', 'references': [{'hash': 'ef1ebde859c902590dfbe5a3bd7a2f7af01f4a4f', 'snaks': {'P828': [{'snaktype': 'value', 'property': 'P828', 'hash': 'bae62d7b26cff18d5a9d277e04475fcb6bd9bcfb', 'datavalue': {'value': 'Claim string reference', 'type': 'string'}, 'datatype': 'string'}]}, 'snaks-order': ['P828']}, {'hash': '77df7e5db38ec15b7abac0755c4dc8e781ba9369', 'snaks': {'P828': [{'snaktype': 'value', 'property': 'P828', 'hash': 'dcd0b956c352f2036bb7da153c4db941e74a803f', 'datavalue': {'value': 'Another claim string reference', 'type': 'string'}, 'datatype': 'string'}]}, 'snaks-order': ['P828']}]}]}, 'forms': [{'id': 'L1580-F1', 'representations': {'en': {'language': 'en', 'value': 'English form representation'}, 'fr': {'language': 'fr', 'value': 'French form representation'}}, 'grammaticalFeatures': ['Q146786'], 'claims': {'P828': [{'mainsnak': {'snaktype': 'value', 'property': 'P828', 'hash': '288a8a8f1e12b9bacb056319c4ed0f3e6bafdd00', 'datavalue': {'value': 'Create a string claim for form', 'type': 'string'}, 'datatype': 'string'}, 'type': 'statement', 'qualifiers': {'P828': [{'snaktype': 'value', 'property': 'P828', 'hash': '6c157568b379f4c2722f30a9fee95d3c5f99dfe9', 'datavalue': {'value': 'Form qualifier', 'type': 'string'}, 'datatype': 'string'}]}, 'qualifiers-order': ['P828'], 'id': 'L1580-F1$81D618F4-EA1A-4526-A563-DDBBB558F82E', 'rank': 'normal', 'references': [{'hash': '32f599c26d4251d72272b3a65294d6d5517d2445', 'snaks': {'P828': [{'snaktype': 'value', 'property': 'P828', 'hash': '1cbb07e7eba6906acf68f427a3f87fefc0a53283', 'datavalue': {'value': 'Form string reference', 'type': 'string'}, 'datatype': 'string'}]}, 'snaks-order': ['P828']}, {'hash': 'a0f20d048c3df03c1bfb25c63869ba37b32c9e01', 'snaks': {'P828': [{'snaktype': 'value', 'property': 'P828', 'hash': '67bef049d400b9d7e2e2695320d85012c9122df5', 'datavalue': {'value': 'Another form string reference', 'type': 'string'}, 'datatype': 'string'}]}, 'snaks-order': ['P828']}]}]}}], 'senses': [{'id': 'L1580-S1', 'glosses': {'en': {'language': 'en', 'value': 'English gloss'}, 'fr': {'language': 'fr', 'value': 'French gloss'}}, 'claims': {'P828': [{'mainsnak': {'snaktype': 'value', 'property': 'P828', 'hash': '9781442191b38e26c55b1dfde6f6203c9127c4f3', 'datavalue': {'value': 'Create a string claim for sense', 'type': 'string'}, 'datatype': 'string'}, 'type': 'statement', 'qualifiers': {'P828': [{'snaktype': 'value', 'property': 'P828', 'hash': 'c1afe7627d9711627e1e48b8e015ade998d6d434', 'datavalue': {'value': 'Sense qualifier', 'type': 'string'}, 'datatype': 'string'}]}, 'qualifiers-order': ['P828'], 'id': 'L1580-S1$487E4CD1-99F1-4868-A2AF-FB523869642B', 'rank': 'normal', 'references': [{'hash': '87e05c6c4fc2d74529d7801340c18955516b6d96', 'snaks': {'P828': [{'snaktype': 'value', 'property': 'P828', 'hash': '617bd3516c2003df28ab90fd6ee0bd8237f1f8e6', 'datavalue': {'value': 'Sense string reference', 'type': 'string'}, 'datatype': 'string'}]}, 'snaks-order': ['P828']}, {'hash': '989b65b201e4b2fbd9d5c2c8d7bd7b7e9d2ce5c7', 'snaks': {'P828': [{'snaktype': 'value', 'property': 'P828', 'hash': '1afe472d8815b3cbf50d2e5b1c497456a82f055f', 'datavalue': {'value': 'Another sense string reference', 'type': 'string'}, 'datatype': 'string'}]}, 'snaks-order': ['P828']}]}]}}], 'lastrevid': 543182}\n\t require_write=True\n\t fast_run_container=None\n\t debug=False\n\t lemmas=<Lemmas @9739a0 _LanguageValues__values={'en': <LanguageValue @973e50 _LanguageValue__language='en' _LanguageValue__value='English lemma' _LanguageValue__removed=False>, 'fr': <LanguageValue @994880 _LanguageValue__language='fr' _LanguageValue__value='French lemma' _LanguageValue__removed=False>}>\n\t lexical_category='Q1244'\n\t language='Q1860'\n\t forms=<Forms @973070 _Forms__forms={'L1580-F1': <Form @994310 _Form__id='L1580-F1' _Form__representations={'en': {'language': 'en', 'value': 'English form representation'}, 'fr': {'language': 'fr', 'value': 'French form representation'}} _Form__grammatical_features=['Q146786'] _Form__claims=<Claims @9736d0 _Claims__claims={'P828': [<Claim @994940 _Claim__mainsnak=<Snak @9942e0 _Snak__snaktype='value' _Snak__property_number='P828' _Snak__hash='288a8a8f1e12b9bacb056319c4ed0f3e6bafdd00' _Snak__datavalue={'value': 'Create a string claim for form', 'type': 'string'} _Snak__datatype='string'> _Claim__type='statement' _Claim__qualifiers=<Snaks @9942b0 snaks={'P828': [<Snak @9946d0 _Snak__snaktype='value' _Snak__property_number='P828' _Snak__hash='6c157568b379f4c2722f30a9fee95d3c5f99dfe9' _Snak__datavalue={'value': 'Form qualifier', 'type': 'string'} _Snak__datatype='string'>]}> _Claim__qualifiers_order=['P828'] _Claim__id='L1580-F1$81D618F4-EA1A-4526-A563-DDBBB558F82E' _Claim__rank='normal' _Claim__references=<References @994d60 references=[<Reference @994370 _Reference__hash='32f599c26d4251d72272b3a65294d6d5517d2445' _Reference__snaks=<Snaks @994be0 snaks={'P828': [<Snak @985d30 _Snak__snaktype='value' _Snak__property_number='P828' _Snak__hash='1cbb07e7eba6906acf68f427a3f87fefc0a53283' _Snak__datavalue={'value': 'Form string reference', 'type': 'string'} _Snak__datatype='string'>]}> _Reference__snaks_order=['P828']>, <Reference @994340 _Reference__hash='a0f20d048c3df03c1bfb25c63869ba37b32c9e01' _Reference__snaks=<Snaks @9859a0 snaks={'P828': [<Snak @9851c0 _Snak__snaktype='value' _Snak__property_number='P828' _Snak__hash='67bef049d400b9d7e2e2695320d85012c9122df5' _Snak__datavalue={'value': 'Another form string reference', 'type': 'string'} _Snak__datatype='string'>]}> _Reference__snaks_order=['P828']>]> _Claim__removed=False>]}>>}>\n\t senses=<Senses @9736a0 senses=[<Sense @9855b0 id='L1580-S1' glosses=<Glosses @985c40 _LanguageValues__values={'en': <LanguageValue @985a30 _LanguageValue__language='en' _LanguageValue__value='English gloss' _LanguageValue__removed=False>, 'fr': <LanguageValue @985100 _LanguageValue__language='fr' _LanguageValue__value='French gloss' _LanguageValue__removed=False>}> claims=<Claims @985220 _Claims__claims={'P828': [<Claim @985df0 _Claim__mainsnak=<Snak @985eb0 _Snak__snaktype='value' _Snak__property_number='P828' _Snak__hash='9781442191b38e26c55b1dfde6f6203c9127c4f3' _Snak__datavalue={'value': 'Create a string claim for sense', 'type': 'string'} _Snak__datatype='string'> _Claim__type='statement' _Claim__qualifiers=<Snaks @9858e0 snaks={'P828': [<Snak @985c70 _Snak__snaktype='value' _Snak__property_number='P828' _Snak__hash='c1afe7627d9711627e1e48b8e015ade998d6d434' _Snak__datavalue={'value': 'Sense qualifier', 'type': 'string'} _Snak__datatype='string'>]}> _Claim__qualifiers_order=['P828'] _Claim__id='L1580-S1$487E4CD1-99F1-4868-A2AF-FB523869642B' _Claim__rank='normal' _Claim__references=<References @985490 references=[<Reference @985040 _Reference__hash='87e05c6c4fc2d74529d7801340c18955516b6d96' _Reference__snaks=<Snaks @9855e0 snaks={'P828': [<Snak @985160 _Snak__snaktype='value' _Snak__property_number='P828' _Snak__hash='617bd3516c2003df28ab90fd6ee0bd8237f1f8e6' _Snak__datavalue={'value': 'Sense string reference', 'type': 'string'} _Snak__datatype='string'>]}> _Reference__snaks_order=['P828']>, <Reference @985e20 _Reference__hash='989b65b201e4b2fbd9d5c2c8d7bd7b7e9d2ce5c7' _Reference__snaks=<Snaks @985af0 snaks={'P828': [<Snak @985460 _Snak__snaktype='value' _Snak__property_number='P828' _Snak__hash='1afe472d8815b3cbf50d2e5b1c497456a82f055f' _Snak__datavalue={'value': 'Another sense string reference', 'type': 'string'} _Snak__datatype='string'>]}> _Reference__snaks_order=['P828']>]> _Claim__removed=False>]}> removed=False>]>>"
     },
     "execution_count": 11,
     "metadata": {},
     "output_type": "execute_result"
    }
   ],
   "source": [
    "lexeme.write()"
   ],
   "metadata": {
    "collapsed": false,
    "pycharm": {
     "name": "#%%\n"
    }
   }
  }
 ],
 "metadata": {
  "kernelspec": {
   "display_name": "Python 3",
   "language": "python",
   "name": "python3"
  },
  "language_info": {
   "codemirror_mode": {
    "name": "ipython",
    "version": 2
   },
   "file_extension": ".py",
   "mimetype": "text/x-python",
   "name": "python",
   "nbconvert_exporter": "python",
   "pygments_lexer": "ipython2",
   "version": "2.7.6"
  }
 },
 "nbformat": 4,
 "nbformat_minor": 0
}